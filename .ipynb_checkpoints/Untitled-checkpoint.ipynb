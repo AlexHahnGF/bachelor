{
 "cells": [
  {
   "cell_type": "markdown",
   "id": "158ddfd3-3a06-43ba-8215-2c70271be6f9",
   "metadata": {},
   "source": [
    "<h2>Dependency of the guidelines from the year of publication.<h2>"
   ]
  },
  {
   "cell_type": "code",
   "execution_count": 242,
   "id": "a7a38ad8-f36c-461d-9bdf-39157a22c930",
   "metadata": {},
   "outputs": [
    {
     "data": {
      "text/html": [
       "<div>\n",
       "<style scoped>\n",
       "    .dataframe tbody tr th:only-of-type {\n",
       "        vertical-align: middle;\n",
       "    }\n",
       "\n",
       "    .dataframe tbody tr th {\n",
       "        vertical-align: top;\n",
       "    }\n",
       "\n",
       "    .dataframe thead th {\n",
       "        text-align: right;\n",
       "    }\n",
       "</style>\n",
       "<table border=\"1\" class=\"dataframe\">\n",
       "  <thead>\n",
       "    <tr style=\"text-align: right;\">\n",
       "      <th></th>\n",
       "      <th>contribution</th>\n",
       "      <th>title</th>\n",
       "      <th>year</th>\n",
       "      <th>guideline_name</th>\n",
       "    </tr>\n",
       "  </thead>\n",
       "  <tbody>\n",
       "    <tr>\n",
       "      <th>0</th>\n",
       "      <td>http://orkg.org/orkg/resource/R159712</td>\n",
       "      <td>Video Variants for CrowdRE: How to Create Line...</td>\n",
       "      <td>2019.0</td>\n",
       "      <td>Recommendation</td>\n",
       "    </tr>\n",
       "    <tr>\n",
       "      <th>1</th>\n",
       "      <td>http://orkg.org/orkg/resource/R172612</td>\n",
       "      <td>Supporting Requirements Elicitation by Tool-Su...</td>\n",
       "      <td>2016.0</td>\n",
       "      <td>Principle</td>\n",
       "    </tr>\n",
       "    <tr>\n",
       "      <th>2</th>\n",
       "      <td>http://orkg.org/orkg/resource/R172546</td>\n",
       "      <td>Video as a By-Product of Digital Prototyping: ...</td>\n",
       "      <td>2017.0</td>\n",
       "      <td>Principle</td>\n",
       "    </tr>\n",
       "    <tr>\n",
       "      <th>3</th>\n",
       "      <td>http://orkg.org/orkg/resource/R172987</td>\n",
       "      <td>Vision Video Making with Novices: A Research P...</td>\n",
       "      <td>2022.0</td>\n",
       "      <td>Guideline</td>\n",
       "    </tr>\n",
       "    <tr>\n",
       "      <th>4</th>\n",
       "      <td>http://orkg.org/orkg/resource/R159702</td>\n",
       "      <td>Feed me, feed me: an exemplar for engineering ...</td>\n",
       "      <td>2016.0</td>\n",
       "      <td>ContraVision</td>\n",
       "    </tr>\n",
       "  </tbody>\n",
       "</table>\n",
       "</div>"
      ],
      "text/plain": [
       "                            contribution  \\\n",
       "0  http://orkg.org/orkg/resource/R159712   \n",
       "1  http://orkg.org/orkg/resource/R172612   \n",
       "2  http://orkg.org/orkg/resource/R172546   \n",
       "3  http://orkg.org/orkg/resource/R172987   \n",
       "4  http://orkg.org/orkg/resource/R159702   \n",
       "\n",
       "                                               title    year  guideline_name  \n",
       "0  Video Variants for CrowdRE: How to Create Line...  2019.0  Recommendation  \n",
       "1  Supporting Requirements Elicitation by Tool-Su...  2016.0       Principle  \n",
       "2  Video as a By-Product of Digital Prototyping: ...  2017.0       Principle  \n",
       "3  Vision Video Making with Novices: A Research P...  2022.0       Guideline  \n",
       "4  Feed me, feed me: an exemplar for engineering ...  2016.0    ContraVision  "
      ]
     },
     "execution_count": 242,
     "metadata": {},
     "output_type": "execute_result"
    }
   ],
   "source": [
    "import sparql_dataframe\n",
    "\n",
    "\n",
    "ENDPOINT_URL = \"https://www.orkg.org/orkg/triplestore\"\n",
    "\n",
    "PREFIXES =  \"\"\"\n",
    "            PREFIX orkgr: <http://orkg.org/orkg/resource/>\n",
    "            PREFIX orkgc: <http://orkg.org/orkg/class/>\n",
    "            PREFIX orkgp: <http://orkg.org/orkg/predicate/>\n",
    "            PREFIX rdfs: <http://www.w3.org/2000/01/rdf-schema#>\n",
    "            \"\"\"\n",
    "query = \"\"\"\n",
    "        SELECT ?contribution, ?title, ?year, ?guideline_name\n",
    "            WHERE {\n",
    "              ?paper orkgp:P31 ?contribution.\n",
    "              ?contribution a orkgc:C23037.\n",
    "              ?contribution rdfs:label ?contribution_name.\n",
    "              ?paper rdfs:label ?title.\n",
    "              OPTIONAL{?contribution orkgp:P45119 ?production.\n",
    "              ?production orkgp:P45079 ?guideline.\n",
    "              ?guideline orkgp:P3 ?type.\n",
    "              ?type rdfs:label ?guideline_name.}\n",
    "              OPTIONAL{?paper orkgp:P29 ?year_resrc.\n",
    "                       BIND(IF(isLiteral(?year_resrc), ?year_resrc, \"\") AS ?year1)\n",
    "                       OPTIONAL{?year_resrc rdfs:label ?year_label.}\n",
    "                       BIND(IF(BOUND(?year_label),?year_label, \"\") AS ?year2)\n",
    "                       BIND(IF(?year1 = \"\", ?year2, ?year1) AS ?year)\n",
    "                      }\n",
    "             }\n",
    "          \"\"\"\n",
    "data = sparql_dataframe.get(ENDPOINT_URL, PREFIXES+query)\n",
    "data.head()"
   ]
  },
  {
   "cell_type": "markdown",
   "id": "a4c14d00-e41d-4a53-a30f-f61c594e4157",
   "metadata": {},
   "source": [
    "<h3>Generate Grpah<h3>"
   ]
  },
  {
   "cell_type": "code",
   "execution_count": 248,
   "id": "569e64e3-dadf-45bd-a7e0-d51aa22a00d5",
   "metadata": {},
   "outputs": [
    {
     "data": {
      "text/plain": [
       "<AxesSubplot:xlabel='name of the guideline', ylabel='year'>"
      ]
     },
     "execution_count": 248,
     "metadata": {},
     "output_type": "execute_result"
    },
    {
     "data": {
      "image/png": "[encoded data removed]",
      "text/plain": [
       "<Figure size 720x360 with 1 Axes>"
      ]
     },
     "metadata": {
      "needs_background": "light"
     },
     "output_type": "display_data"
    }
   ],
   "source": [
    "import matplotlib.pyplot as plt\n",
    "import pandas as pd\n",
    "\n",
    "data_guidelines = []\n",
    "for index, row in data.iterrows():\n",
    "    if not pd.isnull(row['guideline_name']):\n",
    "        data_guidelines.append([row['year'], row['guideline_name']])\n",
    "\n",
    "#df=pd.DataFrame(data_guidelines,columns=['year','guideline_name'])\n",
    "#df.plot(kind='scatter',\n",
    "         #x='guideline_name',\n",
    "         #y='year',\n",
    "         #xlabel='name of the guideline',\n",
    "         #ylabel='year',\n",
    "         #figsize=(25,5))\n",
    "df=pd.DataFrame(data_guidelines,columns=['year','guideline_name'])\n",
    "df.plot(kind='scatter',\n",
    "         x='year',\n",
    "         y='guideline_name',\n",
    "         xlabel='name of the guideline',\n",
    "         ylabel='year',\n",
    "         figsize=(10,5))"
   ]
  },
  {
   "cell_type": "markdown",
   "id": "7dacc238-1081-4c40-855c-659928c84913",
   "metadata": {},
   "source": [
    "<h3> All context (find most popular characteristic) <h3>"
   ]
  },
  {
   "cell_type": "code",
   "execution_count": 236,
   "id": "af59ec25-8414-4b21-98fc-c6c861e985b4",
   "metadata": {},
   "outputs": [
    {
     "data": {
      "text/html": [
       "<div>\n",
       "<style scoped>\n",
       "    .dataframe tbody tr th:only-of-type {\n",
       "        vertical-align: middle;\n",
       "    }\n",
       "\n",
       "    .dataframe tbody tr th {\n",
       "        vertical-align: top;\n",
       "    }\n",
       "\n",
       "    .dataframe thead th {\n",
       "        text-align: right;\n",
       "    }\n",
       "</style>\n",
       "<table border=\"1\" class=\"dataframe\">\n",
       "  <thead>\n",
       "    <tr style=\"text-align: right;\">\n",
       "      <th></th>\n",
       "      <th>title</th>\n",
       "      <th>re_phase</th>\n",
       "      <th>group</th>\n",
       "      <th>individual</th>\n",
       "      <th>virtual</th>\n",
       "      <th>physical</th>\n",
       "      <th>async</th>\n",
       "      <th>sync</th>\n",
       "    </tr>\n",
       "  </thead>\n",
       "  <tbody>\n",
       "    <tr>\n",
       "      <th>0</th>\n",
       "      <td>Vision Meets Visualization: Are Animated Video...</td>\n",
       "      <td>Elicitation</td>\n",
       "      <td>False</td>\n",
       "      <td>True</td>\n",
       "      <td>False</td>\n",
       "      <td>True</td>\n",
       "      <td>False</td>\n",
       "      <td>True</td>\n",
       "    </tr>\n",
       "    <tr>\n",
       "      <th>1</th>\n",
       "      <td>Vision Meets Visualization: Are Animated Video...</td>\n",
       "      <td>Validation</td>\n",
       "      <td>False</td>\n",
       "      <td>True</td>\n",
       "      <td>False</td>\n",
       "      <td>True</td>\n",
       "      <td>False</td>\n",
       "      <td>True</td>\n",
       "    </tr>\n",
       "    <tr>\n",
       "      <th>2</th>\n",
       "      <td>Return of the Vision Video: Can Corporate Visi...</td>\n",
       "      <td>Elicitation</td>\n",
       "      <td>True</td>\n",
       "      <td>True</td>\n",
       "      <td>True</td>\n",
       "      <td>False</td>\n",
       "      <td>True</td>\n",
       "      <td>True</td>\n",
       "    </tr>\n",
       "    <tr>\n",
       "      <th>3</th>\n",
       "      <td>Keep Your Stakeholders Engaged: Interactive Vi...</td>\n",
       "      <td>Negotiation</td>\n",
       "      <td>False</td>\n",
       "      <td>True</td>\n",
       "      <td>False</td>\n",
       "      <td>True</td>\n",
       "      <td>True</td>\n",
       "      <td>False</td>\n",
       "    </tr>\n",
       "    <tr>\n",
       "      <th>4</th>\n",
       "      <td>Keep Your Stakeholders Engaged: Interactive Vi...</td>\n",
       "      <td>Verification</td>\n",
       "      <td>False</td>\n",
       "      <td>True</td>\n",
       "      <td>False</td>\n",
       "      <td>True</td>\n",
       "      <td>True</td>\n",
       "      <td>False</td>\n",
       "    </tr>\n",
       "  </tbody>\n",
       "</table>\n",
       "</div>"
      ],
      "text/plain": [
       "                                               title      re_phase  group  \\\n",
       "0  Vision Meets Visualization: Are Animated Video...   Elicitation  False   \n",
       "1  Vision Meets Visualization: Are Animated Video...    Validation  False   \n",
       "2  Return of the Vision Video: Can Corporate Visi...   Elicitation   True   \n",
       "3  Keep Your Stakeholders Engaged: Interactive Vi...   Negotiation  False   \n",
       "4  Keep Your Stakeholders Engaged: Interactive Vi...  Verification  False   \n",
       "\n",
       "  individual virtual physical  async   sync  \n",
       "0       True   False     True  False   True  \n",
       "1       True   False     True  False   True  \n",
       "2       True    True    False   True   True  \n",
       "3       True   False     True   True  False  \n",
       "4       True   False     True   True  False  "
      ]
     },
     "execution_count": 236,
     "metadata": {},
     "output_type": "execute_result"
    }
   ],
   "source": [
    "query = \"\"\"\n",
    "SELECT ?title, ?re_phase, ?group, ?individual, ?virtual, ?physical ,?async, ?sync\n",
    "  WHERE {\n",
    "    ?paper orkgp:P31 ?contribution.\n",
    "    ?contribution a orkgc:C23037.\n",
    "    ?contribution rdfs:label ?contribution_name.\n",
    "    ?paper rdfs:label ?title.\n",
    "    ?contribution orkgp:P37544/orkgp:P15340 ?context.\n",
    "    OPTIONAL{?context orkgp:P35126 ?group.}\n",
    "    OPTIONAL{?context orkgp:P41611/rdfs:label ?re_phase.}\n",
    "    OPTIONAL{?context orkgp:P45102 ?individual.}\n",
    "    OPTIONAL{?context orkgp:P45103 ?virtual.}\n",
    "    OPTIONAL{?context orkgp:P45104 ?physical.}\n",
    "    OPTIONAL{?context orkgp:P45105 ?async.}\n",
    "    OPTIONAL{?context orkgp:P45106 ?sync.}\n",
    "        }\"\"\"\n",
    "data = sparql_dataframe.get(ENDPOINT_URL, PREFIXES+query)\n",
    "data.head()"
   ]
  },
  {
   "cell_type": "markdown",
   "id": "4e191919-5c70-476b-a3de-a08dc005b45a",
   "metadata": {},
   "source": [
    "<h3> Generate Graph <h3>"
   ]
  },
  {
   "cell_type": "code",
   "execution_count": 237,
   "id": "9599a88f-99b1-4fe6-a70e-be08a4afa92f",
   "metadata": {},
   "outputs": [
    {
     "data": {
      "text/plain": [
       "<AxesSubplot:xlabel='context characteristics', ylabel='number of occurrences'>"
      ]
     },
     "execution_count": 237,
     "metadata": {},
     "output_type": "execute_result"
    },
    {
     "data": {
      "image/png": "[encoded data removed]",
      "text/plain": [
       "<Figure size 432x288 with 1 Axes>"
      ]
     },
     "metadata": {
      "needs_background": "light"
     },
     "output_type": "display_data"
    }
   ],
   "source": [
    "paper_duplicates = []\n",
    "context_data = []\n",
    "for index, row in data.iterrows():\n",
    "    if row['title'] not in paper_duplicates:\n",
    "        paper_duplicates.append(row['title'])\n",
    "        paper_title = row['title']\n",
    "        for idx in range(2,len(row)):\n",
    "            if not pd.isnull(row[idx]) and row[idx] == True:\n",
    "                context_data.append({'paper':paper_title,'characteristic':row.index[idx]})\n",
    "\n",
    "df = pd.DataFrame(context_data)\n",
    "df['characteristic'].value_counts().plot(kind='bar', \n",
    "                                         xlabel='context characteristics', \n",
    "                                         ylabel='number of occurrences')"
   ]
  },
  {
   "cell_type": "markdown",
   "id": "dd6c6404-1a22-48bb-a404-2cd2137e610c",
   "metadata": {},
   "source": [
    "<h3> Venn Graph for characteristics<h3>"
   ]
  },
  {
   "cell_type": "code",
   "execution_count": 333,
   "id": "48658fa6-cbe0-4da9-ba1b-e80c5daf0bc1",
   "metadata": {},
   "outputs": [],
   "source": [
    "#from matplotlib_venn import venn3\n",
    "%matplotlib inline\n",
    "import venn\n",
    "\n",
    "#venn3([set1, set2, set3], ('Group1', 'Group2', 'Group3'))\n",
    "\n",
    "#plt.show()\n",
    "dups = []\n",
    "sets = []\n",
    "#labes = []\n",
    "for idx, item in enumerate(context_data):\n",
    "    if item['paper'] not in dups:\n",
    "        dups.append(item['paper'])\n",
    "        context = []\n",
    "        for i in range(idx+1, len(context_data)):\n",
    "            if item['paper'] == context_data[i]['paper']:\n",
    "                context.append(context_data[i]['characteristic'])\n",
    "        sets.append(set(context))\n",
    "        \n",
    "\n",
    "#venn3(subsets=(sets[0], sets[1], sets[2]))\n",
    "#plt.show()"
   ]
  },
  {
   "cell_type": "markdown",
   "id": "23173a9c-fab3-4959-b15e-c46f1d40c5ba",
   "metadata": {},
   "source": [
    "<h3> Only RE Phase (find most popular RE Phase)<h3>"
   ]
  },
  {
   "cell_type": "code",
   "execution_count": 300,
   "id": "19126088-269d-43a2-922c-aea78b907a6e",
   "metadata": {},
   "outputs": [
    {
     "data": {
      "text/html": [
       "<div>\n",
       "<style scoped>\n",
       "    .dataframe tbody tr th:only-of-type {\n",
       "        vertical-align: middle;\n",
       "    }\n",
       "\n",
       "    .dataframe tbody tr th {\n",
       "        vertical-align: top;\n",
       "    }\n",
       "\n",
       "    .dataframe thead th {\n",
       "        text-align: right;\n",
       "    }\n",
       "</style>\n",
       "<table border=\"1\" class=\"dataframe\">\n",
       "  <thead>\n",
       "    <tr style=\"text-align: right;\">\n",
       "      <th></th>\n",
       "      <th>title</th>\n",
       "      <th>re_phase</th>\n",
       "    </tr>\n",
       "  </thead>\n",
       "  <tbody>\n",
       "    <tr>\n",
       "      <th>0</th>\n",
       "      <td>Software Cinema-Video-based Requirements Engin...</td>\n",
       "      <td>Elicitation</td>\n",
       "    </tr>\n",
       "    <tr>\n",
       "      <th>1</th>\n",
       "      <td>Software Cinema-Video-based Requirements Engin...</td>\n",
       "      <td>Validation</td>\n",
       "    </tr>\n",
       "    <tr>\n",
       "      <th>2</th>\n",
       "      <td>Software Cinema-Video-based Requirements Engin...</td>\n",
       "      <td>Validation</td>\n",
       "    </tr>\n",
       "    <tr>\n",
       "      <th>3</th>\n",
       "      <td>Videos vs. Use Cases: Can Videos Capture More ...</td>\n",
       "      <td>Elicitation</td>\n",
       "    </tr>\n",
       "    <tr>\n",
       "      <th>4</th>\n",
       "      <td>Videos vs. Use Cases: Can Videos Capture More ...</td>\n",
       "      <td>Negotiation</td>\n",
       "    </tr>\n",
       "  </tbody>\n",
       "</table>\n",
       "</div>"
      ],
      "text/plain": [
       "                                               title     re_phase\n",
       "0  Software Cinema-Video-based Requirements Engin...  Elicitation\n",
       "1  Software Cinema-Video-based Requirements Engin...   Validation\n",
       "2  Software Cinema-Video-based Requirements Engin...   Validation\n",
       "3  Videos vs. Use Cases: Can Videos Capture More ...  Elicitation\n",
       "4  Videos vs. Use Cases: Can Videos Capture More ...  Negotiation"
      ]
     },
     "execution_count": 300,
     "metadata": {},
     "output_type": "execute_result"
    }
   ],
   "source": [
    "query = \"\"\"\n",
    "SELECT ?title, ?re_phase\n",
    "  WHERE {\n",
    "        ?paper orkgp:P31 ?contribution.\n",
    "        ?contribution a orkgc:C23037.\n",
    "        ?contribution rdfs:label ?contribution_name.\n",
    "        ?paper rdfs:label ?title.\n",
    "        OPTIONAL{?contribution orkgp:P37544/orkgp:P15340 ?context.\n",
    "                 ?context orkgp:P41611/rdfs:label ?re_phase.}\n",
    "        }\"\"\"\n",
    "\n",
    "data = sparql_dataframe.get(ENDPOINT_URL, PREFIXES+query)\n",
    "data.head()"
   ]
  },
  {
   "cell_type": "code",
   "execution_count": 343,
   "id": "16b15d62-70b2-4e3e-98da-acd50669c8e2",
   "metadata": {},
   "outputs": [
    {
     "data": {
      "image/png": "[encoded data removed]",
      "text/plain": [
       "<Figure size 432x288 with 1 Axes>"
      ]
     },
     "metadata": {},
     "output_type": "display_data"
    }
   ],
   "source": [
    "labels = []\n",
    "re_phases_data = []\n",
    "re_phases_list = ['Elicitation', 'Validation', 'Negotiation', 'Verification', 'Documentation', 'Interpretation']\n",
    "\n",
    "#get all found returned re_phases\n",
    "for index, row in data.iterrows():\n",
    "    if not pd.isnull(row['re_phase']) and row['re_phase'] not in labels:\n",
    "        labels.append(row['re_phase'])\n",
    "\n",
    "# form dict to form data for grpah\n",
    "for idx,name in enumerate(data['re_phase'].value_counts().index.tolist()):\n",
    "    re_phases_data.append({'phase':name, 'counts':data['re_phase'].value_counts()[idx]})\n",
    "\n",
    "# find if not all re phases are mentioned in papers    \n",
    "not_occured_phases = list(set(re_phases_list) - set(labels))\n",
    "for phase in not_occured_phases:\n",
    "    labels.append(str(phase))\n",
    "    re_phases_data.append({'phase':str(phase), 'counts':0})\n",
    "\n",
    "# form lables and data for gprah\n",
    "plot_labels = []\n",
    "plot_data = []\n",
    "total = 0\n",
    "for item in re_phases_data:\n",
    "    plot_labels.append(item['phase'])\n",
    "    plot_data.append(item['counts'])\n",
    "    total+=item['counts']\n",
    "\n",
    "plt.pie(plot_data, labels =plot_labels, \n",
    "                   autopct=lambda x: '{:.0f}'.format(x * total / 100), \n",
    "                   radius=2)\n",
    "#plt.legend(\"RE Phases\")\n",
    "#plt.title(\"RE Phases\")\n",
    "plt.show()"
   ]
  },
  {
   "cell_type": "code",
   "execution_count": null,
   "id": "061887f9-8203-4f8e-8884-bb2024283b8d",
   "metadata": {},
   "outputs": [],
   "source": []
  },
  {
   "cell_type": "markdown",
   "id": "481334fa-9075-4996-bff2-d7d3e9652ae6",
   "metadata": {},
   "source": [
    "<h3> All synonyms of Videos <h3>"
   ]
  },
  {
   "cell_type": "code",
   "execution_count": 222,
   "id": "1e8e215b-177b-4d0d-b0da-57715616f9d9",
   "metadata": {},
   "outputs": [
    {
     "data": {
      "text/html": [
       "<div>\n",
       "<style scoped>\n",
       "    .dataframe tbody tr th:only-of-type {\n",
       "        vertical-align: middle;\n",
       "    }\n",
       "\n",
       "    .dataframe tbody tr th {\n",
       "        vertical-align: top;\n",
       "    }\n",
       "\n",
       "    .dataframe thead th {\n",
       "        text-align: right;\n",
       "    }\n",
       "</style>\n",
       "<table border=\"1\" class=\"dataframe\">\n",
       "  <thead>\n",
       "    <tr style=\"text-align: right;\">\n",
       "      <th></th>\n",
       "      <th>title</th>\n",
       "      <th>video_type</th>\n",
       "    </tr>\n",
       "  </thead>\n",
       "  <tbody>\n",
       "    <tr>\n",
       "      <th>0</th>\n",
       "      <td>Software Cinema-Video-based Requirements Engin...</td>\n",
       "      <td>Vision video</td>\n",
       "    </tr>\n",
       "    <tr>\n",
       "      <th>1</th>\n",
       "      <td>Software Cinema-Video-based Requirements Engin...</td>\n",
       "      <td>Vision video</td>\n",
       "    </tr>\n",
       "    <tr>\n",
       "      <th>2</th>\n",
       "      <td>Videos vs. Use Cases: Can Videos Capture More ...</td>\n",
       "      <td>Ad-hoc video with respect to use cases</td>\n",
       "    </tr>\n",
       "    <tr>\n",
       "      <th>3</th>\n",
       "      <td>On the effect of visual refinement upon user f...</td>\n",
       "      <td>Demonstration Video</td>\n",
       "    </tr>\n",
       "    <tr>\n",
       "      <th>4</th>\n",
       "      <td>On the effect of visual refinement upon user f...</td>\n",
       "      <td>Demonstration Video</td>\n",
       "    </tr>\n",
       "  </tbody>\n",
       "</table>\n",
       "</div>"
      ],
      "text/plain": [
       "                                               title  \\\n",
       "0  Software Cinema-Video-based Requirements Engin...   \n",
       "1  Software Cinema-Video-based Requirements Engin...   \n",
       "2  Videos vs. Use Cases: Can Videos Capture More ...   \n",
       "3  On the effect of visual refinement upon user f...   \n",
       "4  On the effect of visual refinement upon user f...   \n",
       "\n",
       "                               video_type  \n",
       "0                            Vision video  \n",
       "1                            Vision video  \n",
       "2  Ad-hoc video with respect to use cases  \n",
       "3                     Demonstration Video  \n",
       "4                     Demonstration Video  "
      ]
     },
     "execution_count": 222,
     "metadata": {},
     "output_type": "execute_result"
    }
   ],
   "source": [
    "query = \"\"\"\n",
    "SELECT ?title, ?video_type\n",
    "  WHERE {\n",
    "    ?paper orkgp:P31 ?contribution.\n",
    "    ?contribution a orkgc:C23037.\n",
    "    ?contribution rdfs:label ?contribution_name.\n",
    "    ?paper rdfs:label ?title.\n",
    "    OPTIONAL{?contribution orkgp:P37544/orkgp:P45098 ?video.\n",
    "             ?video orkgp:P3/rdfs:label ?video_type.}\n",
    "        }\n",
    "        \"\"\"\n",
    "data = sparql_dataframe.get(ENDPOINT_URL, PREFIXES+query)\n",
    "data.head()"
   ]
  },
  {
   "cell_type": "markdown",
   "id": "3b744dee-f72b-4520-bdb7-5823cb9afce0",
   "metadata": {},
   "source": [
    "<h3> Generate Graph <h3>"
   ]
  },
  {
   "cell_type": "code",
   "execution_count": 223,
   "id": "81128521-93fe-49a6-9255-77a783a9d9cd",
   "metadata": {},
   "outputs": [
    {
     "data": {
      "text/plain": [
       "<AxesSubplot:xlabel='types of video', ylabel='number of occurrences'>"
      ]
     },
     "execution_count": 223,
     "metadata": {},
     "output_type": "execute_result"
    },
    {
     "data": {
      "image/png": "[encoded data removed]",
      "text/plain": [
       "<Figure size 432x288 with 1 Axes>"
      ]
     },
     "metadata": {
      "needs_background": "light"
     },
     "output_type": "display_data"
    }
   ],
   "source": [
    "data['video_type'].value_counts().plot(kind='bar', \n",
    "                                       color='red', \n",
    "                                       xlabel='types of video', \n",
    "                                       ylabel='number of occurrences')"
   ]
  },
  {
   "cell_type": "markdown",
   "id": "0fba44d4-3a46-4e1b-9995-32ed4c7d8d7d",
   "metadata": {},
   "source": [
    "<h3> Dependency of duration of the video from its type <h3>"
   ]
  },
  {
   "cell_type": "code",
   "execution_count": 224,
   "id": "b3a2a648-6a95-43f7-9d51-bad7c19998b0",
   "metadata": {},
   "outputs": [
    {
     "data": {
      "text/html": [
       "<div>\n",
       "<style scoped>\n",
       "    .dataframe tbody tr th:only-of-type {\n",
       "        vertical-align: middle;\n",
       "    }\n",
       "\n",
       "    .dataframe tbody tr th {\n",
       "        vertical-align: top;\n",
       "    }\n",
       "\n",
       "    .dataframe thead th {\n",
       "        text-align: right;\n",
       "    }\n",
       "</style>\n",
       "<table border=\"1\" class=\"dataframe\">\n",
       "  <thead>\n",
       "    <tr style=\"text-align: right;\">\n",
       "      <th></th>\n",
       "      <th>title</th>\n",
       "      <th>video_content</th>\n",
       "      <th>duration</th>\n",
       "      <th>duration_unit</th>\n",
       "    </tr>\n",
       "  </thead>\n",
       "  <tbody>\n",
       "    <tr>\n",
       "      <th>0</th>\n",
       "      <td>On the effect of visual refinement upon user f...</td>\n",
       "      <td>Prototype</td>\n",
       "      <td>3.5</td>\n",
       "      <td>Minute</td>\n",
       "    </tr>\n",
       "    <tr>\n",
       "      <th>1</th>\n",
       "      <td>Refining Vision Videos</td>\n",
       "      <td>Vision</td>\n",
       "      <td>215.0</td>\n",
       "      <td>Second</td>\n",
       "    </tr>\n",
       "    <tr>\n",
       "      <th>2</th>\n",
       "      <td>Refining Vision Videos</td>\n",
       "      <td>Vision</td>\n",
       "      <td>218.0</td>\n",
       "      <td>Second</td>\n",
       "    </tr>\n",
       "    <tr>\n",
       "      <th>3</th>\n",
       "      <td>Vision Meets Visualization: Are Animated Video...</td>\n",
       "      <td>Vision</td>\n",
       "      <td>113.0</td>\n",
       "      <td>Second</td>\n",
       "    </tr>\n",
       "    <tr>\n",
       "      <th>4</th>\n",
       "      <td>Vision Meets Visualization: Are Animated Video...</td>\n",
       "      <td>Vision</td>\n",
       "      <td>112.0</td>\n",
       "      <td>Second</td>\n",
       "    </tr>\n",
       "  </tbody>\n",
       "</table>\n",
       "</div>"
      ],
      "text/plain": [
       "                                               title video_content  duration  \\\n",
       "0  On the effect of visual refinement upon user f...     Prototype       3.5   \n",
       "1                             Refining Vision Videos        Vision     215.0   \n",
       "2                             Refining Vision Videos        Vision     218.0   \n",
       "3  Vision Meets Visualization: Are Animated Video...        Vision     113.0   \n",
       "4  Vision Meets Visualization: Are Animated Video...        Vision     112.0   \n",
       "\n",
       "  duration_unit  \n",
       "0        Minute  \n",
       "1        Second  \n",
       "2        Second  \n",
       "3        Second  \n",
       "4        Second  "
      ]
     },
     "execution_count": 224,
     "metadata": {},
     "output_type": "execute_result"
    }
   ],
   "source": [
    "query = \"\"\"\n",
    "SELECT ?title, ?video_content, ?duration, ?duration_unit\n",
    "  WHERE {\n",
    "    ?paper orkgp:P31 ?contribution.\n",
    "    ?contribution a orkgc:C23037.\n",
    "    ?contribution rdfs:label ?contribution_name.\n",
    "    ?paper rdfs:label ?title.\n",
    "    OPTIONAL{?contribution orkgp:P37544/orkgp:P45098 ?video.\n",
    "             ?video orkgp:P34137/rdfs:label ?video_content;\n",
    "                    orkgp:P23149/orkgp:P45073/orkgp:P45075 ?duration;\n",
    "                    orkgp:P23149/orkgp:P45073/orkgp:P45076/rdfs:label ?duration_unit.}\n",
    "        }\n",
    "        \"\"\"\n",
    "data = sparql_dataframe.get(ENDPOINT_URL, PREFIXES+query)\n",
    "data.head()"
   ]
  },
  {
   "cell_type": "markdown",
   "id": "df840f68-b6a0-4119-abcb-bc1003f10290",
   "metadata": {},
   "source": [
    "<h3> Generate Graph <h3>"
   ]
  },
  {
   "cell_type": "code",
   "execution_count": 225,
   "id": "eb72825f-1d19-453c-bc5f-e16ae9c8a629",
   "metadata": {},
   "outputs": [
    {
     "data": {
      "text/plain": [
       "<AxesSubplot:xlabel='duration in mins', ylabel='types of video content'>"
      ]
     },
     "execution_count": 225,
     "metadata": {},
     "output_type": "execute_result"
    },
    {
     "data": {
      "image/png": "[encoded data removed]",
      "text/plain": [
       "<Figure size 1080x360 with 1 Axes>"
      ]
     },
     "metadata": {
      "needs_background": "light"
     },
     "output_type": "display_data"
    }
   ],
   "source": [
    "duration_data = []\n",
    "for index, row in data.iterrows():\n",
    "    duration = 0.0\n",
    "    if not (pd.isnull(row['duration_unit']) and pd.isnull(row['video_content']) and pd.isnull(row['duration_unit'])):\n",
    "        if row['duration_unit'] == 'Second':\n",
    "            duration = float(\"{:.2f}\".format(row['duration']/60))\n",
    "        elif row['duration_unit'] == 'Minute':\n",
    "            duration = float(row['duration'])\n",
    "        elif row['duration_unit'] == 'Hour':\n",
    "            duration = float(\"{:.2f}\".format(row['duration']*60))\n",
    "        elif row['duration_unit'] == 'Day':\n",
    "            duration = float(\"{:.2f}\".format(row['duration']*60*24))\n",
    "        duration_data.append({'video_content':row['video_content'], 'duration':duration})\n",
    "    \n",
    "sorted_data = sorted(duration_data, key=lambda d: d['duration'])\n",
    "\n",
    "df=pd.DataFrame(sorted_data)\n",
    "df = df.astype(str)\n",
    "df.plot(kind='scatter',\n",
    "         x='duration',\n",
    "         y='video_content',\n",
    "         xlabel='duration in mins',\n",
    "         ylabel='types of video content',\n",
    "         figsize=(15,5))"
   ]
  },
  {
   "cell_type": "markdown",
   "id": "17dbf04c-b083-410e-87e2-9dd7ca96001c",
   "metadata": {},
   "source": [
    "<h3> All types of interactions in videos <h3>"
   ]
  },
  {
   "cell_type": "code",
   "execution_count": 226,
   "id": "44ada4d2-f117-41fa-805e-82a25b89d444",
   "metadata": {},
   "outputs": [
    {
     "data": {
      "text/html": [
       "<div>\n",
       "<style scoped>\n",
       "    .dataframe tbody tr th:only-of-type {\n",
       "        vertical-align: middle;\n",
       "    }\n",
       "\n",
       "    .dataframe tbody tr th {\n",
       "        vertical-align: top;\n",
       "    }\n",
       "\n",
       "    .dataframe thead th {\n",
       "        text-align: right;\n",
       "    }\n",
       "</style>\n",
       "<table border=\"1\" class=\"dataframe\">\n",
       "  <thead>\n",
       "    <tr style=\"text-align: right;\">\n",
       "      <th></th>\n",
       "      <th>title</th>\n",
       "      <th>interaction</th>\n",
       "    </tr>\n",
       "  </thead>\n",
       "  <tbody>\n",
       "    <tr>\n",
       "      <th>0</th>\n",
       "      <td>Workshop videos for requirements communication</td>\n",
       "      <td>Tagging</td>\n",
       "    </tr>\n",
       "    <tr>\n",
       "      <th>1</th>\n",
       "      <td>Anforderungen klären mit Videoclips</td>\n",
       "      <td>Poll</td>\n",
       "    </tr>\n",
       "    <tr>\n",
       "      <th>2</th>\n",
       "      <td>Viewing Vision Videos Online: Opportunities fo...</td>\n",
       "      <td>Poll</td>\n",
       "    </tr>\n",
       "    <tr>\n",
       "      <th>3</th>\n",
       "      <td>Software Cinema-Video-based Requirements Engin...</td>\n",
       "      <td>NaN</td>\n",
       "    </tr>\n",
       "    <tr>\n",
       "      <th>4</th>\n",
       "      <td>Videos vs. Use Cases: Can Videos Capture More ...</td>\n",
       "      <td>NaN</td>\n",
       "    </tr>\n",
       "  </tbody>\n",
       "</table>\n",
       "</div>"
      ],
      "text/plain": [
       "                                               title interaction\n",
       "0     Workshop videos for requirements communication     Tagging\n",
       "1                Anforderungen klären mit Videoclips        Poll\n",
       "2  Viewing Vision Videos Online: Opportunities fo...        Poll\n",
       "3  Software Cinema-Video-based Requirements Engin...         NaN\n",
       "4  Videos vs. Use Cases: Can Videos Capture More ...         NaN"
      ]
     },
     "execution_count": 226,
     "metadata": {},
     "output_type": "execute_result"
    }
   ],
   "source": [
    "query = \"\"\"\n",
    "        SELECT ?title, ?interaction\n",
    "          WHERE {\n",
    "            ?paper orkgp:P31 ?contribution.\n",
    "            ?contribution a orkgc:C23037.\n",
    "            ?contribution rdfs:label ?contribution_name.\n",
    "            ?paper rdfs:label ?title.\n",
    "            OPTIONAL{?contribution orkgp:P37544/orkgp:P45098 ?video.\n",
    "                     ?video orkgp:P45100/rdfs:label ?interaction.}\n",
    "                }\n",
    "        \"\"\"\n",
    "data = sparql_dataframe.get(ENDPOINT_URL, PREFIXES+query)\n",
    "data.head()"
   ]
  },
  {
   "cell_type": "markdown",
   "id": "2bd1ae8f-f81a-405b-8820-ba2d338ebc8f",
   "metadata": {},
   "source": [
    "<h3> Generate graph <h3>"
   ]
  },
  {
   "cell_type": "code",
   "execution_count": 227,
   "id": "93a7cba2-9f99-4ece-b15c-cd09bc593421",
   "metadata": {},
   "outputs": [
    {
     "data": {
      "text/plain": [
       "<AxesSubplot:xlabel='interaction types', ylabel='number of occurrences'>"
      ]
     },
     "execution_count": 227,
     "metadata": {},
     "output_type": "execute_result"
    },
    {
     "data": {
      "image/png": "[encoded data removed]",
      "text/plain": [
       "<Figure size 432x288 with 1 Axes>"
      ]
     },
     "metadata": {
      "needs_background": "light"
     },
     "output_type": "display_data"
    }
   ],
   "source": [
    "data['interaction'].value_counts().plot(kind='bar', \n",
    "                                        color='green', \n",
    "                                        ylabel='number of occurrences', \n",
    "                                        xlabel='interaction types')"
   ]
  },
  {
   "cell_type": "markdown",
   "id": "6f163acf-2683-42a9-9621-9d2825e7e14e",
   "metadata": {},
   "source": [
    "<h3>Occurencies of Videos as a Problems/Solutions in Phases of RE<h3>"
   ]
  },
  {
   "cell_type": "code",
   "execution_count": null,
   "id": "87d4b3f7-2b38-4989-9c6b-2939f231ceb3",
   "metadata": {},
   "outputs": [],
   "source": [
    "query = \"\"\"\n",
    "        PREFIX orkgr: <http://orkg.org/orkg/resource/>\n",
    "        PREFIX orkgc: <http://orkg.org/orkg/class/>\n",
    "        PREFIX orkgp: <http://orkg.org/orkg/predicate/>\n",
    "        PREFIX rdfs: <http://www.w3.org/2000/01/rdf-schema#>\n",
    "        PREFIX xsd: <http://www.w3.org/2001/XMLSchema#>\n",
    "        PREFIX rdf: <http://www.w3.org/1999/02/22-rdf-syntax-ns#>\n",
    "\n",
    "        SELECT ?title, ?problem, ?solution, ?re_phase\n",
    "          WHERE {\n",
    "            {\n",
    "              ?paper orkgp:P31 ?contribution.\n",
    "              ?contribution a orkgc:C23037.\n",
    "              ?contribution rdfs:label ?contribution_name.\n",
    "              ?paper rdfs:label ?title.\n",
    "              ?contribution orkgp:P37544/orkgp:P45098 ?video.\n",
    "              ?contribution orkgp:P37544/orkgp:P15340 ?context.\n",
    "              ?context orkgp:P41611/rdfs:label ?re_phase.\n",
    "              ?video orkgp:P11 ?problem.}\n",
    "            UNION\n",
    "            {\n",
    "              ?paper orkgp:P31 ?contribution.\n",
    "              ?contribution a orkgc:C23037.\n",
    "              ?contribution rdfs:label ?contribution_name.\n",
    "              ?paper rdfs:label ?title.\n",
    "              ?contribution orkgp:P37544/orkgp:P45098 ?video.\n",
    "              ?contribution orkgp:P37544/orkgp:P15340 ?context.\n",
    "              ?context orkgp:P41611/rdfs:label ?re_phase.\n",
    "              ?video orkgp:P12 ?solution.}\n",
    "            }\n",
    "        \"\"\"\n",
    "data = sparql_dataframe.get(ENDPOINT_URL, PREFIXES+query)\n",
    "data.head()"
   ]
  },
  {
   "cell_type": "code",
   "execution_count": null,
   "id": "ec33d6dc-3ef1-4ad9-854c-5428b51517c9",
   "metadata": {},
   "outputs": [],
   "source": []
  }
 ],
 "metadata": {
  "kernelspec": {
   "display_name": "Python 3 (ipykernel)",
   "language": "python",
   "name": "python3"
  },
  "language_info": {
   "codemirror_mode": {
    "name": "ipython",
    "version": 3
   },
   "file_extension": ".py",
   "mimetype": "text/x-python",
   "name": "python",
   "nbconvert_exporter": "python",
   "pygments_lexer": "ipython3",
   "version": "3.9.13"
  }
 },
 "nbformat": 4,
 "nbformat_minor": 5
}
