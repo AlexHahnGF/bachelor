{
 "cells": [
  {
   "cell_type": "markdown",
   "id": "e5daadd2-6377-4765-91bf-c22eca15dde5",
   "metadata": {
    "tags": []
   },
   "source": [
    "## Analysis of scientific publications on the subject of \"Production and Use of Videos Requirements Engineering\"\n",
    "    \n",
    "    \n",
    "   This Jupyter notebook contains several analyses of scholarly knowledge from scientific publications on the topic of \"Production and Use of Videos Requirements Engineering\" from the research field Requirements Engineering. The list of publications, which were taken in accout could be found *[on ORKG](https://orkg.org/list/R182413)*. \n",
    "These analyzes are based on competency questions, which were asked by the researchers in the Requirements Engineering department of Leibniz University Hannover, who deal with the topic of videos in software engineering and by the supervisor of this work, Dr. re. of Oliver Karras.\n",
    "    \n",
    "> **Competency questions:**\n",
    ">\n",
    "> - How have the guidelines changed over time?\n",
    "> - What do the properties of the context (group, individual, virtual, physical, synchronous, asynchronous) of videos look like / Which property occurs most often?\n",
    "> - Which combinations of properties of the context of the videos (group, individual, virtual, physical, synchronous, asynchronous) occur the most often?\n",
    "> - In which phases of Requirements Engineering are the videos used / which phase of Requirements Engineering occurs most often?\n",
    "> - Which synonyms of videos were used in articles? which synonyms occur the most?\n",
    "> - Is there a dependency between the type of video and its Duration?\n",
    "> - Which interaction possibilities were mentioned in publications?\n",
    "> - How often does the video come up to communicate a “problem” / “solution” in phases of Requirements Engineering?\n",
    "> - Who produces the videos?\n",
    "> - What types of videos tend to have high costs?\n",
    "> - Which types of videos are most low-fidelity and which are high-fidelity?\n",
    "\n",
    "For the description of the scholarly knowledge from such publications in this research field, The the [\"Video Process\" ORKG template](https://orkg.org/template/R172526) was developed to consistently describe video processes, aswell as videos that appear in scientific publications. An ORKG template defines a semantic structure of research contributions in the way, that the contributions described contain the same information in the same structure. This makes the comparison of the contributions possible. The description includes the entire video process with prduction and application of videos aswell as raised research problem and a study, if the publication has one."
   ]
  },
  {
   "cell_type": "markdown",
   "id": "158ddfd3-3a06-43ba-8215-2c70271be6f9",
   "metadata": {},
   "source": [
    "### How have the guidelines changed over time?\n",
    "\n",
    "First, the data from the publications is loaded from the Open Research Knowledge Graph [(ORKG)](https://orkg.org/) using the \"Video Process\" template."
   ]
  },
  {
   "cell_type": "code",
   "execution_count": 1,
   "id": "a7a38ad8-f36c-461d-9bdf-39157a22c930",
   "metadata": {},
   "outputs": [
    {
     "data": {
      "text/html": [
       "<div>\n",
       "<style scoped>\n",
       "    .dataframe tbody tr th:only-of-type {\n",
       "        vertical-align: middle;\n",
       "    }\n",
       "\n",
       "    .dataframe tbody tr th {\n",
       "        vertical-align: top;\n",
       "    }\n",
       "\n",
       "    .dataframe thead th {\n",
       "        text-align: right;\n",
       "    }\n",
       "</style>\n",
       "<table border=\"1\" class=\"dataframe\">\n",
       "  <thead>\n",
       "    <tr style=\"text-align: right;\">\n",
       "      <th></th>\n",
       "      <th>contribution</th>\n",
       "      <th>title</th>\n",
       "      <th>year</th>\n",
       "      <th>guideline_name</th>\n",
       "    </tr>\n",
       "  </thead>\n",
       "  <tbody>\n",
       "    <tr>\n",
       "      <th>0</th>\n",
       "      <td>http://orkg.org/orkg/resource/R164407</td>\n",
       "      <td>Investigating User Experiences Through Animati...</td>\n",
       "      <td>2016.0</td>\n",
       "      <td>diegetic prototypes</td>\n",
       "    </tr>\n",
       "    <tr>\n",
       "      <th>1</th>\n",
       "      <td>http://orkg.org/orkg/resource/R164407</td>\n",
       "      <td>Investigating User Experiences Through Animati...</td>\n",
       "      <td>2016.0</td>\n",
       "      <td>diegetic prototypes</td>\n",
       "    </tr>\n",
       "    <tr>\n",
       "      <th>2</th>\n",
       "      <td>http://orkg.org/orkg/resource/R164407</td>\n",
       "      <td>Investigating User Experiences Through Animati...</td>\n",
       "      <td>2016.0</td>\n",
       "      <td>diegetic prototypes</td>\n",
       "    </tr>\n",
       "    <tr>\n",
       "      <th>3</th>\n",
       "      <td>http://orkg.org/orkg/resource/R159598</td>\n",
       "      <td>At home with agents: exploring attitudes towar...</td>\n",
       "      <td>2013.0</td>\n",
       "      <td>Whiteboard animation</td>\n",
       "    </tr>\n",
       "    <tr>\n",
       "      <th>4</th>\n",
       "      <td>http://orkg.org/orkg/resource/R159630</td>\n",
       "      <td>Workshop videos for requirements communication</td>\n",
       "      <td>2015.0</td>\n",
       "      <td>Low-cost video recording</td>\n",
       "    </tr>\n",
       "  </tbody>\n",
       "</table>\n",
       "</div>"
      ],
      "text/plain": [
       "                            contribution  \\\n",
       "0  http://orkg.org/orkg/resource/R164407   \n",
       "1  http://orkg.org/orkg/resource/R164407   \n",
       "2  http://orkg.org/orkg/resource/R164407   \n",
       "3  http://orkg.org/orkg/resource/R159598   \n",
       "4  http://orkg.org/orkg/resource/R159630   \n",
       "\n",
       "                                               title    year  \\\n",
       "0  Investigating User Experiences Through Animati...  2016.0   \n",
       "1  Investigating User Experiences Through Animati...  2016.0   \n",
       "2  Investigating User Experiences Through Animati...  2016.0   \n",
       "3  At home with agents: exploring attitudes towar...  2013.0   \n",
       "4     Workshop videos for requirements communication  2015.0   \n",
       "\n",
       "             guideline_name  \n",
       "0       diegetic prototypes  \n",
       "1       diegetic prototypes  \n",
       "2       diegetic prototypes  \n",
       "3      Whiteboard animation  \n",
       "4  Low-cost video recording  "
      ]
     },
     "execution_count": 1,
     "metadata": {},
     "output_type": "execute_result"
    }
   ],
   "source": [
    "import sparql_dataframe\n",
    "\n",
    "\n",
    "ENDPOINT_URL = \"https://www.orkg.org/orkg/triplestore\"\n",
    "\n",
    "PREFIXES =  \"\"\"\n",
    "            PREFIX orkgr: <http://orkg.org/orkg/resource/>\n",
    "            PREFIX orkgc: <http://orkg.org/orkg/class/>\n",
    "            PREFIX orkgp: <http://orkg.org/orkg/predicate/>\n",
    "            PREFIX rdfs: <http://www.w3.org/2000/01/rdf-schema#>\n",
    "            \"\"\"\n",
    "query = \"\"\"\n",
    "        SELECT ?contribution, ?title, ?year, ?guideline_name\n",
    "            WHERE {\n",
    "              ?paper orkgp:P31 ?contribution.\n",
    "              ?contribution a orkgc:C23037.\n",
    "              ?contribution rdfs:label ?contribution_name.\n",
    "              ?paper rdfs:label ?title.\n",
    "              OPTIONAL{?contribution orkgp:P45119 ?production.\n",
    "              ?production orkgp:P45079 ?guideline.\n",
    "              ?guideline orkgp:P3 ?type.\n",
    "              ?type rdfs:label ?guideline_name.}\n",
    "              OPTIONAL{?paper orkgp:P29 ?year_resrc.\n",
    "                       BIND(IF(isLiteral(?year_resrc), ?year_resrc, \"\") AS ?year1)\n",
    "                       OPTIONAL{?year_resrc rdfs:label ?year_label.}\n",
    "                       BIND(IF(BOUND(?year_label),?year_label, \"\") AS ?year2)\n",
    "                       BIND(IF(?year1 = \"\", ?year2, ?year1) AS ?year)\n",
    "                      }\n",
    "             }\n",
    "          \"\"\"\n",
    "data = sparql_dataframe.get(ENDPOINT_URL, PREFIXES+query)\n",
    "data.head()"
   ]
  },
  {
   "cell_type": "markdown",
   "id": "a4c14d00-e41d-4a53-a30f-f61c594e4157",
   "metadata": {},
   "source": [
    "#### Generate grpah\n",
    "\n",
    "Afterwards the graph is generated to represent the data."
   ]
  },
  {
   "cell_type": "code",
   "execution_count": 2,
   "id": "569e64e3-dadf-45bd-a7e0-d51aa22a00d5",
   "metadata": {},
   "outputs": [
    {
     "data": {
      "text/plain": [
       "<AxesSubplot:xlabel='year', ylabel='name of the guideline'>"
      ]
     },
     "execution_count": 2,
     "metadata": {},
     "output_type": "execute_result"
    },
    {
     "data": {
      "image/png": "[encoded data removed]",
      "text/plain": [
       "<Figure size 720x360 with 1 Axes>"
      ]
     },
     "metadata": {
      "needs_background": "light"
     },
     "output_type": "display_data"
    }
   ],
   "source": [
    "import matplotlib.pyplot as plt\n",
    "import matplotlib.pylab as pylab\n",
    "import pandas as pd\n",
    "\n",
    "params = {'legend.fontsize': 'x-large',\n",
    "          'figure.figsize': (15, 5),\n",
    "         'axes.labelsize': 'x-large',\n",
    "         'axes.titlesize':'x-large',\n",
    "         'xtick.labelsize':'x-large',\n",
    "         'ytick.labelsize':'x-large'}\n",
    "pylab.rcParams.update(params)\n",
    "\n",
    "data_guidelines = []\n",
    "for index, row in data.iterrows():\n",
    "    if not pd.isnull(row['guideline_name']):\n",
    "        data_guidelines.append([row['year'], row['guideline_name']])\n",
    "\n",
    "df = pd.DataFrame(data_guidelines,columns=['year','guideline_name'])\n",
    "df.plot(kind='scatter',\n",
    "         x='year',\n",
    "         y='guideline_name',\n",
    "         xlabel='year',\n",
    "         ylabel='name of the guideline',\n",
    "         figsize=(10,5))"
   ]
  },
  {
   "cell_type": "markdown",
   "id": "7dacc238-1081-4c40-855c-659928c84913",
   "metadata": {},
   "source": [
    "### What do the properties of the context (group, individual, virtual, physical, synchronous, asynchronous) of videos look like / Which property occurs most often?\n",
    "To answer this question, different set of data is needed, so the new query needs to be created first."
   ]
  },
  {
   "cell_type": "code",
   "execution_count": 3,
   "id": "af59ec25-8414-4b21-98fc-c6c861e985b4",
   "metadata": {},
   "outputs": [
    {
     "data": {
      "text/html": [
       "<div>\n",
       "<style scoped>\n",
       "    .dataframe tbody tr th:only-of-type {\n",
       "        vertical-align: middle;\n",
       "    }\n",
       "\n",
       "    .dataframe tbody tr th {\n",
       "        vertical-align: top;\n",
       "    }\n",
       "\n",
       "    .dataframe thead th {\n",
       "        text-align: right;\n",
       "    }\n",
       "</style>\n",
       "<table border=\"1\" class=\"dataframe\">\n",
       "  <thead>\n",
       "    <tr style=\"text-align: right;\">\n",
       "      <th></th>\n",
       "      <th>title</th>\n",
       "      <th>re_phase</th>\n",
       "      <th>group</th>\n",
       "      <th>individual</th>\n",
       "      <th>virtual</th>\n",
       "      <th>physical</th>\n",
       "      <th>async</th>\n",
       "      <th>sync</th>\n",
       "    </tr>\n",
       "  </thead>\n",
       "  <tbody>\n",
       "    <tr>\n",
       "      <th>0</th>\n",
       "      <td>Vision Meets Visualization: Are Animated Video...</td>\n",
       "      <td>Elicitation</td>\n",
       "      <td>False</td>\n",
       "      <td>True</td>\n",
       "      <td>False</td>\n",
       "      <td>True</td>\n",
       "      <td>False</td>\n",
       "      <td>True</td>\n",
       "    </tr>\n",
       "    <tr>\n",
       "      <th>1</th>\n",
       "      <td>Vision Meets Visualization: Are Animated Video...</td>\n",
       "      <td>Validation</td>\n",
       "      <td>False</td>\n",
       "      <td>True</td>\n",
       "      <td>False</td>\n",
       "      <td>True</td>\n",
       "      <td>False</td>\n",
       "      <td>True</td>\n",
       "    </tr>\n",
       "    <tr>\n",
       "      <th>2</th>\n",
       "      <td>Return of the Vision Video: Can Corporate Visi...</td>\n",
       "      <td>Elicitation</td>\n",
       "      <td>True</td>\n",
       "      <td>True</td>\n",
       "      <td>True</td>\n",
       "      <td>False</td>\n",
       "      <td>True</td>\n",
       "      <td>True</td>\n",
       "    </tr>\n",
       "    <tr>\n",
       "      <th>3</th>\n",
       "      <td>Keep Your Stakeholders Engaged: Interactive Vi...</td>\n",
       "      <td>Negotiation</td>\n",
       "      <td>False</td>\n",
       "      <td>True</td>\n",
       "      <td>False</td>\n",
       "      <td>True</td>\n",
       "      <td>True</td>\n",
       "      <td>False</td>\n",
       "    </tr>\n",
       "    <tr>\n",
       "      <th>4</th>\n",
       "      <td>Keep Your Stakeholders Engaged: Interactive Vi...</td>\n",
       "      <td>Verification</td>\n",
       "      <td>False</td>\n",
       "      <td>True</td>\n",
       "      <td>False</td>\n",
       "      <td>True</td>\n",
       "      <td>True</td>\n",
       "      <td>False</td>\n",
       "    </tr>\n",
       "  </tbody>\n",
       "</table>\n",
       "</div>"
      ],
      "text/plain": [
       "                                               title      re_phase  group  \\\n",
       "0  Vision Meets Visualization: Are Animated Video...   Elicitation  False   \n",
       "1  Vision Meets Visualization: Are Animated Video...    Validation  False   \n",
       "2  Return of the Vision Video: Can Corporate Visi...   Elicitation   True   \n",
       "3  Keep Your Stakeholders Engaged: Interactive Vi...   Negotiation  False   \n",
       "4  Keep Your Stakeholders Engaged: Interactive Vi...  Verification  False   \n",
       "\n",
       "  individual virtual physical  async   sync  \n",
       "0       True   False     True  False   True  \n",
       "1       True   False     True  False   True  \n",
       "2       True    True    False   True   True  \n",
       "3       True   False     True   True  False  \n",
       "4       True   False     True   True  False  "
      ]
     },
     "execution_count": 3,
     "metadata": {},
     "output_type": "execute_result"
    }
   ],
   "source": [
    "query = \"\"\"\n",
    "SELECT ?title, ?re_phase, ?group, ?individual, ?virtual, ?physical ,?async, ?sync\n",
    "  WHERE {\n",
    "    ?paper orkgp:P31 ?contribution.\n",
    "    ?contribution a orkgc:C23037.\n",
    "    ?contribution rdfs:label ?contribution_name.\n",
    "    ?paper rdfs:label ?title.\n",
    "    ?contribution orkgp:P37544/orkgp:P15340 ?context.\n",
    "    OPTIONAL{?context orkgp:P35126 ?group.}\n",
    "    OPTIONAL{?context orkgp:P41611/rdfs:label ?re_phase.}\n",
    "    OPTIONAL{?context orkgp:P45102 ?individual.}\n",
    "    OPTIONAL{?context orkgp:P45103 ?virtual.}\n",
    "    OPTIONAL{?context orkgp:P45104 ?physical.}\n",
    "    OPTIONAL{?context orkgp:P45105 ?async.}\n",
    "    OPTIONAL{?context orkgp:P45106 ?sync.}\n",
    "    }\n",
    "        \"\"\"\n",
    "data = sparql_dataframe.get(ENDPOINT_URL, PREFIXES+query)\n",
    "data.head()"
   ]
  },
  {
   "cell_type": "markdown",
   "id": "4e191919-5c70-476b-a3de-a08dc005b45a",
   "metadata": {},
   "source": [
    "#### Generate grpah\n",
    "Afterwards the graph is generated to represent the data."
   ]
  },
  {
   "cell_type": "code",
   "execution_count": 4,
   "id": "9599a88f-99b1-4fe6-a70e-be08a4afa92f",
   "metadata": {},
   "outputs": [
    {
     "data": {
      "text/plain": [
       "<AxesSubplot:xlabel='context characteristics', ylabel='number of occurrences'>"
      ]
     },
     "execution_count": 4,
     "metadata": {},
     "output_type": "execute_result"
    },
    {
     "data": {
      "image/png": "[encoded data removed]",
      "text/plain": [
       "<Figure size 432x288 with 1 Axes>"
      ]
     },
     "metadata": {
      "needs_background": "light"
     },
     "output_type": "display_data"
    }
   ],
   "source": [
    "paper_duplicates = []\n",
    "context_data = []\n",
    "for index, row in data.iterrows():\n",
    "    #if row['title'] not in paper_duplicates:\n",
    "        paper_duplicates.append(row['title'])\n",
    "        paper_title = row['title']\n",
    "        for idx in range(2,len(row)):\n",
    "            if not pd.isnull(row[idx]) and row[idx] == True:\n",
    "                context_data.append({'paper':paper_title,'characteristic':row.index[idx]})\n",
    "\n",
    "df = pd.DataFrame(context_data)\n",
    "df['characteristic'].value_counts().plot(kind='bar', \n",
    "                                         xlabel='context characteristics', \n",
    "                                         ylabel='number of occurrences')"
   ]
  },
  {
   "cell_type": "markdown",
   "id": "c63eef3f-27df-4576-bfa5-cb8f873c89d2",
   "metadata": {},
   "source": [
    "### Which combinations of properties of the context of the videos (group, individual, virtual, physical, synchronous, asynchronous) occur the most often?\n",
    "\n",
    "Another graph is generated to represent the data and answer the question."
   ]
  },
  {
   "cell_type": "code",
   "execution_count": 5,
   "id": "ad2777b8-b88e-4fd2-a4b3-e0b09b61ae1a",
   "metadata": {},
   "outputs": [
    {
     "data": {
      "text/plain": [
       "<AxesSubplot:xlabel='combinations of characteristics', ylabel='number of occurrences'>"
      ]
     },
     "execution_count": 5,
     "metadata": {},
     "output_type": "execute_result"
    },
    {
     "data": {
      "image/png": "[encoded data removed]",
      "text/plain": [
       "<Figure size 720x360 with 1 Axes>"
      ]
     },
     "metadata": {
      "needs_background": "light"
     },
     "output_type": "display_data"
    }
   ],
   "source": [
    "combination_data = []\n",
    "for index, row in data.iterrows():\n",
    "    combination_name = []\n",
    "    for idx in range(2,len(row)):\n",
    "            if not pd.isnull(row[idx]) and row[idx] == True:\n",
    "                combination_name.append(row.index[idx])\n",
    "    if len(combination_name) > 1:\n",
    "        combination_data.append(combination_name)\n",
    "\n",
    "pd.Series(combination_data).value_counts().plot(kind='bar',\n",
    "                                                color='purple',\n",
    "                                                xlabel='combinations of characteristics', \n",
    "                                                ylabel='number of occurrences',\n",
    "                                                figsize=(10,5))"
   ]
  },
  {
   "cell_type": "markdown",
   "id": "23173a9c-fab3-4959-b15e-c46f1d40c5ba",
   "metadata": {},
   "source": [
    "### In which phases of Requirements Engineering are the videos used / which phase of Requirements Engineering occurs most often?\n",
    "\n",
    "It is necessary, to get another set of data, to be able to respond this question. In the next step, another query is created to get the requested data."
   ]
  },
  {
   "cell_type": "code",
   "execution_count": 6,
   "id": "19126088-269d-43a2-922c-aea78b907a6e",
   "metadata": {},
   "outputs": [
    {
     "data": {
      "text/html": [
       "<div>\n",
       "<style scoped>\n",
       "    .dataframe tbody tr th:only-of-type {\n",
       "        vertical-align: middle;\n",
       "    }\n",
       "\n",
       "    .dataframe tbody tr th {\n",
       "        vertical-align: top;\n",
       "    }\n",
       "\n",
       "    .dataframe thead th {\n",
       "        text-align: right;\n",
       "    }\n",
       "</style>\n",
       "<table border=\"1\" class=\"dataframe\">\n",
       "  <thead>\n",
       "    <tr style=\"text-align: right;\">\n",
       "      <th></th>\n",
       "      <th>title</th>\n",
       "      <th>re_phase</th>\n",
       "    </tr>\n",
       "  </thead>\n",
       "  <tbody>\n",
       "    <tr>\n",
       "      <th>0</th>\n",
       "      <td>Software Cinema-Video-based Requirements Engin...</td>\n",
       "      <td>Elicitation</td>\n",
       "    </tr>\n",
       "    <tr>\n",
       "      <th>1</th>\n",
       "      <td>Software Cinema-Video-based Requirements Engin...</td>\n",
       "      <td>Validation</td>\n",
       "    </tr>\n",
       "    <tr>\n",
       "      <th>2</th>\n",
       "      <td>Software Cinema-Video-based Requirements Engin...</td>\n",
       "      <td>Validation</td>\n",
       "    </tr>\n",
       "    <tr>\n",
       "      <th>3</th>\n",
       "      <td>Videos vs. Use Cases: Can Videos Capture More ...</td>\n",
       "      <td>Elicitation</td>\n",
       "    </tr>\n",
       "    <tr>\n",
       "      <th>4</th>\n",
       "      <td>Videos vs. Use Cases: Can Videos Capture More ...</td>\n",
       "      <td>Negotiation</td>\n",
       "    </tr>\n",
       "  </tbody>\n",
       "</table>\n",
       "</div>"
      ],
      "text/plain": [
       "                                               title     re_phase\n",
       "0  Software Cinema-Video-based Requirements Engin...  Elicitation\n",
       "1  Software Cinema-Video-based Requirements Engin...   Validation\n",
       "2  Software Cinema-Video-based Requirements Engin...   Validation\n",
       "3  Videos vs. Use Cases: Can Videos Capture More ...  Elicitation\n",
       "4  Videos vs. Use Cases: Can Videos Capture More ...  Negotiation"
      ]
     },
     "execution_count": 6,
     "metadata": {},
     "output_type": "execute_result"
    }
   ],
   "source": [
    "query = \"\"\"\n",
    "SELECT ?title, ?re_phase\n",
    "  WHERE {\n",
    "        ?paper orkgp:P31 ?contribution.\n",
    "        ?contribution a orkgc:C23037.\n",
    "        ?contribution rdfs:label ?contribution_name.\n",
    "        ?paper rdfs:label ?title.\n",
    "        OPTIONAL{?contribution orkgp:P37544/orkgp:P15340 ?context.\n",
    "                 ?context orkgp:P41611/rdfs:label ?re_phase.}\n",
    "        }\"\"\"\n",
    "\n",
    "data = sparql_dataframe.get(ENDPOINT_URL, PREFIXES+query)\n",
    "data.head()"
   ]
  },
  {
   "cell_type": "markdown",
   "id": "7f3d1e61-fe11-4a78-8e39-c2b873cc9b0f",
   "metadata": {},
   "source": [
    "#### Generate grpah\n",
    "Afterwards another graph is generated to communicate the question."
   ]
  },
  {
   "cell_type": "code",
   "execution_count": 7,
   "id": "16b15d62-70b2-4e3e-98da-acd50669c8e2",
   "metadata": {},
   "outputs": [
    {
     "data": {
      "image/png": "[encoded data removed]",
      "text/plain": [
       "<Figure size 432x288 with 1 Axes>"
      ]
     },
     "metadata": {},
     "output_type": "display_data"
    }
   ],
   "source": [
    "labels = []\n",
    "re_phases_data = []\n",
    "re_phases_list = ['Elicitation', 'Validation', 'Negotiation', 'Verification', 'Documentation', 'Interpretation']\n",
    "\n",
    "#get all found returned re_phases\n",
    "for index, row in data.iterrows():\n",
    "    if not pd.isnull(row['re_phase']) and row['re_phase'] not in labels:\n",
    "        labels.append(row['re_phase'])\n",
    "\n",
    "# form dict to form data for grpah\n",
    "for idx,name in enumerate(data['re_phase'].value_counts().index.tolist()):\n",
    "    re_phases_data.append({'phase':name, 'counts':data['re_phase'].value_counts()[idx]})\n",
    "\n",
    "# find if not all re phases are mentioned in papers    \n",
    "not_occured_phases = list(set(re_phases_list) - set(labels))\n",
    "for phase in not_occured_phases:\n",
    "    labels.append(str(phase))\n",
    "    re_phases_data.append({'phase':str(phase), 'counts':0})\n",
    "\n",
    "# form lables and data for gprah\n",
    "plot_labels = []\n",
    "plot_data = []\n",
    "total = 0\n",
    "for item in re_phases_data:\n",
    "    plot_labels.append(item['phase'])\n",
    "    plot_data.append(item['counts'])\n",
    "    total+=item['counts']\n",
    "\n",
    "plt.pie(plot_data,\n",
    "        labels =plot_labels,\n",
    "        autopct=lambda x: '{:.0f}'.format(x * total / 100),\n",
    "        radius=2)\n",
    "#plt.legend(\"RE Phases\")\n",
    "#plt.title(\"RE Phases\")\n",
    "plt.show()"
   ]
  },
  {
   "cell_type": "markdown",
   "id": "481334fa-9075-4996-bff2-d7d3e9652ae6",
   "metadata": {},
   "source": [
    "#### Which synonyms of videos were used in articles? which synonyms occur the most?\n",
    "\n",
    "Also in this case another qeury is generated for the same reason, to find an answer to corresponding competency question."
   ]
  },
  {
   "cell_type": "code",
   "execution_count": 8,
   "id": "1e8e215b-177b-4d0d-b0da-57715616f9d9",
   "metadata": {},
   "outputs": [
    {
     "data": {
      "text/html": [
       "<div>\n",
       "<style scoped>\n",
       "    .dataframe tbody tr th:only-of-type {\n",
       "        vertical-align: middle;\n",
       "    }\n",
       "\n",
       "    .dataframe tbody tr th {\n",
       "        vertical-align: top;\n",
       "    }\n",
       "\n",
       "    .dataframe thead th {\n",
       "        text-align: right;\n",
       "    }\n",
       "</style>\n",
       "<table border=\"1\" class=\"dataframe\">\n",
       "  <thead>\n",
       "    <tr style=\"text-align: right;\">\n",
       "      <th></th>\n",
       "      <th>title</th>\n",
       "      <th>video_type</th>\n",
       "    </tr>\n",
       "  </thead>\n",
       "  <tbody>\n",
       "    <tr>\n",
       "      <th>0</th>\n",
       "      <td>Software Cinema-Video-based Requirements Engin...</td>\n",
       "      <td>Vision video</td>\n",
       "    </tr>\n",
       "    <tr>\n",
       "      <th>1</th>\n",
       "      <td>Software Cinema-Video-based Requirements Engin...</td>\n",
       "      <td>Vision video</td>\n",
       "    </tr>\n",
       "    <tr>\n",
       "      <th>2</th>\n",
       "      <td>Videos vs. Use Cases: Can Videos Capture More ...</td>\n",
       "      <td>Ad-hoc video with respect to use cases</td>\n",
       "    </tr>\n",
       "    <tr>\n",
       "      <th>3</th>\n",
       "      <td>On the effect of visual refinement upon user f...</td>\n",
       "      <td>Demonstration Video</td>\n",
       "    </tr>\n",
       "    <tr>\n",
       "      <th>4</th>\n",
       "      <td>On the effect of visual refinement upon user f...</td>\n",
       "      <td>Demonstration Video</td>\n",
       "    </tr>\n",
       "  </tbody>\n",
       "</table>\n",
       "</div>"
      ],
      "text/plain": [
       "                                               title  \\\n",
       "0  Software Cinema-Video-based Requirements Engin...   \n",
       "1  Software Cinema-Video-based Requirements Engin...   \n",
       "2  Videos vs. Use Cases: Can Videos Capture More ...   \n",
       "3  On the effect of visual refinement upon user f...   \n",
       "4  On the effect of visual refinement upon user f...   \n",
       "\n",
       "                               video_type  \n",
       "0                            Vision video  \n",
       "1                            Vision video  \n",
       "2  Ad-hoc video with respect to use cases  \n",
       "3                     Demonstration Video  \n",
       "4                     Demonstration Video  "
      ]
     },
     "execution_count": 8,
     "metadata": {},
     "output_type": "execute_result"
    }
   ],
   "source": [
    "query = \"\"\"\n",
    "SELECT ?title, ?video_type\n",
    "  WHERE {\n",
    "    ?paper orkgp:P31 ?contribution.\n",
    "    ?contribution a orkgc:C23037.\n",
    "    ?contribution rdfs:label ?contribution_name.\n",
    "    ?paper rdfs:label ?title.\n",
    "    OPTIONAL{?contribution orkgp:P37544/orkgp:P45098 ?video.\n",
    "             ?video orkgp:P3/rdfs:label ?video_type.}\n",
    "    }\n",
    "        \"\"\"\n",
    "data = sparql_dataframe.get(ENDPOINT_URL, PREFIXES+query)\n",
    "data.head()"
   ]
  },
  {
   "cell_type": "markdown",
   "id": "3b744dee-f72b-4520-bdb7-5823cb9afce0",
   "metadata": {},
   "source": [
    "#### Generate graph\n",
    "\n",
    "After the data is received, a new graph is generated to represent the data visually and give an answer to the corresponding competency question."
   ]
  },
  {
   "cell_type": "code",
   "execution_count": 9,
   "id": "81128521-93fe-49a6-9255-77a783a9d9cd",
   "metadata": {},
   "outputs": [
    {
     "data": {
      "text/plain": [
       "<AxesSubplot:xlabel='types of video', ylabel='number of occurrences'>"
      ]
     },
     "execution_count": 9,
     "metadata": {},
     "output_type": "execute_result"
    },
    {
     "data": {
      "image/png": "[encoded data removed]",
      "text/plain": [
       "<Figure size 720x360 with 1 Axes>"
      ]
     },
     "metadata": {
      "needs_background": "light"
     },
     "output_type": "display_data"
    }
   ],
   "source": [
    "data['video_type'].value_counts().plot(kind='bar', \n",
    "                                       color='red', \n",
    "                                       xlabel='types of video', \n",
    "                                       ylabel='number of occurrences',\n",
    "                                       figsize=(10,5),\n",
    "                                       fontsize=12)"
   ]
  },
  {
   "cell_type": "markdown",
   "id": "0fba44d4-3a46-4e1b-9995-32ed4c7d8d7d",
   "metadata": {},
   "source": [
    "### Is there a dependency between the type of video and its Duration?\n",
    "\n",
    "To be able to answer this question, we need to get a corresponding data from ORKG first."
   ]
  },
  {
   "cell_type": "code",
   "execution_count": 10,
   "id": "b3a2a648-6a95-43f7-9d51-bad7c19998b0",
   "metadata": {},
   "outputs": [
    {
     "data": {
      "text/html": [
       "<div>\n",
       "<style scoped>\n",
       "    .dataframe tbody tr th:only-of-type {\n",
       "        vertical-align: middle;\n",
       "    }\n",
       "\n",
       "    .dataframe tbody tr th {\n",
       "        vertical-align: top;\n",
       "    }\n",
       "\n",
       "    .dataframe thead th {\n",
       "        text-align: right;\n",
       "    }\n",
       "</style>\n",
       "<table border=\"1\" class=\"dataframe\">\n",
       "  <thead>\n",
       "    <tr style=\"text-align: right;\">\n",
       "      <th></th>\n",
       "      <th>title</th>\n",
       "      <th>video_content</th>\n",
       "      <th>duration</th>\n",
       "      <th>duration_unit</th>\n",
       "    </tr>\n",
       "  </thead>\n",
       "  <tbody>\n",
       "    <tr>\n",
       "      <th>0</th>\n",
       "      <td>On the effect of visual refinement upon user f...</td>\n",
       "      <td>Prototype</td>\n",
       "      <td>3.5</td>\n",
       "      <td>Minute</td>\n",
       "    </tr>\n",
       "    <tr>\n",
       "      <th>1</th>\n",
       "      <td>Refining Vision Videos</td>\n",
       "      <td>Vision</td>\n",
       "      <td>218.0</td>\n",
       "      <td>Second</td>\n",
       "    </tr>\n",
       "    <tr>\n",
       "      <th>2</th>\n",
       "      <td>Refining Vision Videos</td>\n",
       "      <td>Vision</td>\n",
       "      <td>215.0</td>\n",
       "      <td>Second</td>\n",
       "    </tr>\n",
       "    <tr>\n",
       "      <th>3</th>\n",
       "      <td>Vision Meets Visualization: Are Animated Video...</td>\n",
       "      <td>Vision</td>\n",
       "      <td>112.0</td>\n",
       "      <td>Second</td>\n",
       "    </tr>\n",
       "    <tr>\n",
       "      <th>4</th>\n",
       "      <td>Vision Meets Visualization: Are Animated Video...</td>\n",
       "      <td>Vision</td>\n",
       "      <td>113.0</td>\n",
       "      <td>Second</td>\n",
       "    </tr>\n",
       "  </tbody>\n",
       "</table>\n",
       "</div>"
      ],
      "text/plain": [
       "                                               title video_content  duration  \\\n",
       "0  On the effect of visual refinement upon user f...     Prototype       3.5   \n",
       "1                             Refining Vision Videos        Vision     218.0   \n",
       "2                             Refining Vision Videos        Vision     215.0   \n",
       "3  Vision Meets Visualization: Are Animated Video...        Vision     112.0   \n",
       "4  Vision Meets Visualization: Are Animated Video...        Vision     113.0   \n",
       "\n",
       "  duration_unit  \n",
       "0        Minute  \n",
       "1        Second  \n",
       "2        Second  \n",
       "3        Second  \n",
       "4        Second  "
      ]
     },
     "execution_count": 10,
     "metadata": {},
     "output_type": "execute_result"
    }
   ],
   "source": [
    "query = \"\"\"\n",
    "SELECT ?title, ?video_content, ?duration, ?duration_unit\n",
    "  WHERE {\n",
    "    ?paper orkgp:P31 ?contribution.\n",
    "    ?contribution a orkgc:C23037.\n",
    "    ?contribution rdfs:label ?contribution_name.\n",
    "    ?paper rdfs:label ?title.\n",
    "    OPTIONAL{?contribution orkgp:P37544/orkgp:P45098 ?video.\n",
    "             ?video orkgp:P34137/rdfs:label ?video_content;\n",
    "                    orkgp:P23149/orkgp:P45073/orkgp:P45075 ?duration;\n",
    "                    orkgp:P23149/orkgp:P45073/orkgp:P45076/rdfs:label ?duration_unit.}\n",
    "        }\n",
    "        \"\"\"\n",
    "data = sparql_dataframe.get(ENDPOINT_URL, PREFIXES+query)\n",
    "data.head()"
   ]
  },
  {
   "cell_type": "markdown",
   "id": "df840f68-b6a0-4119-abcb-bc1003f10290",
   "metadata": {},
   "source": [
    "#### Generate graph\n",
    "\n",
    "In next step the new graph is generated to represent the type of the videos and their length. This should help to find an answer to the asked competency question."
   ]
  },
  {
   "cell_type": "code",
   "execution_count": 11,
   "id": "eb72825f-1d19-453c-bc5f-e16ae9c8a629",
   "metadata": {},
   "outputs": [
    {
     "data": {
      "text/plain": [
       "<AxesSubplot:xlabel='duration in mins', ylabel='types of video content'>"
      ]
     },
     "execution_count": 11,
     "metadata": {},
     "output_type": "execute_result"
    },
    {
     "data": {
      "image/png": "[encoded data removed]",
      "text/plain": [
       "<Figure size 1080x360 with 1 Axes>"
      ]
     },
     "metadata": {
      "needs_background": "light"
     },
     "output_type": "display_data"
    }
   ],
   "source": [
    "duration_data = []\n",
    "for index, row in data.iterrows():\n",
    "    duration = 0.0\n",
    "    if not (pd.isnull(row['duration_unit']) and pd.isnull(row['video_content']) and pd.isnull(row['duration_unit'])):\n",
    "        if row['duration_unit'] == 'Second':\n",
    "            duration = float(\"{:.2f}\".format(row['duration']/60))\n",
    "        elif row['duration_unit'] == 'Minute':\n",
    "            duration = float(row['duration'])\n",
    "        elif row['duration_unit'] == 'Hour':\n",
    "            duration = float(\"{:.2f}\".format(row['duration']*60))\n",
    "        elif row['duration_unit'] == 'Day':\n",
    "            duration = float(\"{:.2f}\".format(row['duration']*60*24))\n",
    "        duration_data.append({'video_content':row['video_content'], 'duration':duration})\n",
    "    \n",
    "sorted_data = sorted(duration_data, key=lambda d: d['duration'])\n",
    "\n",
    "df = pd.DataFrame(sorted_data)\n",
    "df = df.astype(str)\n",
    "df.plot(kind='scatter',\n",
    "         x='duration',\n",
    "         y='video_content',\n",
    "         xlabel='duration in mins',\n",
    "         ylabel='types of video content',\n",
    "         figsize=(15,5),\n",
    "         fontsize=16)"
   ]
  },
  {
   "cell_type": "markdown",
   "id": "17dbf04c-b083-410e-87e2-9dd7ca96001c",
   "metadata": {},
   "source": [
    "### Which interaction possibilities were mentioned in publications?\n",
    "\n",
    "In this case we also need another different set of data, to get only the publications, where the interaction with the video take place."
   ]
  },
  {
   "cell_type": "code",
   "execution_count": 12,
   "id": "44ada4d2-f117-41fa-805e-82a25b89d444",
   "metadata": {},
   "outputs": [
    {
     "data": {
      "text/html": [
       "<div>\n",
       "<style scoped>\n",
       "    .dataframe tbody tr th:only-of-type {\n",
       "        vertical-align: middle;\n",
       "    }\n",
       "\n",
       "    .dataframe tbody tr th {\n",
       "        vertical-align: top;\n",
       "    }\n",
       "\n",
       "    .dataframe thead th {\n",
       "        text-align: right;\n",
       "    }\n",
       "</style>\n",
       "<table border=\"1\" class=\"dataframe\">\n",
       "  <thead>\n",
       "    <tr style=\"text-align: right;\">\n",
       "      <th></th>\n",
       "      <th>title</th>\n",
       "      <th>interaction</th>\n",
       "    </tr>\n",
       "  </thead>\n",
       "  <tbody>\n",
       "    <tr>\n",
       "      <th>0</th>\n",
       "      <td>Workshop videos for requirements communication</td>\n",
       "      <td>Tagging</td>\n",
       "    </tr>\n",
       "    <tr>\n",
       "      <th>1</th>\n",
       "      <td>Anforderungen klären mit Videoclips</td>\n",
       "      <td>Poll</td>\n",
       "    </tr>\n",
       "    <tr>\n",
       "      <th>2</th>\n",
       "      <td>Viewing Vision Videos Online: Opportunities fo...</td>\n",
       "      <td>Poll</td>\n",
       "    </tr>\n",
       "    <tr>\n",
       "      <th>3</th>\n",
       "      <td>Software Cinema-Video-based Requirements Engin...</td>\n",
       "      <td>NaN</td>\n",
       "    </tr>\n",
       "    <tr>\n",
       "      <th>4</th>\n",
       "      <td>Videos vs. Use Cases: Can Videos Capture More ...</td>\n",
       "      <td>NaN</td>\n",
       "    </tr>\n",
       "  </tbody>\n",
       "</table>\n",
       "</div>"
      ],
      "text/plain": [
       "                                               title interaction\n",
       "0     Workshop videos for requirements communication     Tagging\n",
       "1                Anforderungen klären mit Videoclips        Poll\n",
       "2  Viewing Vision Videos Online: Opportunities fo...        Poll\n",
       "3  Software Cinema-Video-based Requirements Engin...         NaN\n",
       "4  Videos vs. Use Cases: Can Videos Capture More ...         NaN"
      ]
     },
     "execution_count": 12,
     "metadata": {},
     "output_type": "execute_result"
    }
   ],
   "source": [
    "query = \"\"\"\n",
    "        SELECT ?title, ?interaction\n",
    "          WHERE {\n",
    "            ?paper orkgp:P31 ?contribution.\n",
    "            ?contribution a orkgc:C23037.\n",
    "            ?contribution rdfs:label ?contribution_name.\n",
    "            ?paper rdfs:label ?title.\n",
    "            OPTIONAL{?contribution orkgp:P37544/orkgp:P45098 ?video.\n",
    "                     ?video orkgp:P45100/rdfs:label ?interaction.}\n",
    "                }\n",
    "        \"\"\"\n",
    "data = sparql_dataframe.get(ENDPOINT_URL, PREFIXES+query)\n",
    "data.head()"
   ]
  },
  {
   "cell_type": "markdown",
   "id": "2bd1ae8f-f81a-405b-8820-ba2d338ebc8f",
   "metadata": {},
   "source": [
    "#### Generate graph\n",
    "\n",
    "Another graph is created to represent the data with the aim of answering the question."
   ]
  },
  {
   "cell_type": "code",
   "execution_count": 13,
   "id": "93a7cba2-9f99-4ece-b15c-cd09bc593421",
   "metadata": {},
   "outputs": [
    {
     "data": {
      "text/plain": [
       "<AxesSubplot:xlabel='interaction types', ylabel='number of occurrences'>"
      ]
     },
     "execution_count": 13,
     "metadata": {},
     "output_type": "execute_result"
    },
    {
     "data": {
      "image/png": "[encoded data removed]",
      "text/plain": [
       "<Figure size 432x288 with 1 Axes>"
      ]
     },
     "metadata": {
      "needs_background": "light"
     },
     "output_type": "display_data"
    }
   ],
   "source": [
    "data['interaction'].value_counts().plot(kind='bar', \n",
    "                                        color='green', \n",
    "                                        ylabel='number of occurrences', \n",
    "                                        xlabel='interaction types')"
   ]
  },
  {
   "cell_type": "markdown",
   "id": "6f163acf-2683-42a9-9621-9d2825e7e14e",
   "metadata": {},
   "source": [
    "### How often does the video come up to communicate a “problem” / “solution” in phases of Requirements Engineering?\n",
    "\n",
    "Also in this case a new set of data is needed to be able to answer this competency question."
   ]
  },
  {
   "cell_type": "code",
   "execution_count": 14,
   "id": "87d4b3f7-2b38-4989-9c6b-2939f231ceb3",
   "metadata": {},
   "outputs": [
    {
     "data": {
      "text/html": [
       "<div>\n",
       "<style scoped>\n",
       "    .dataframe tbody tr th:only-of-type {\n",
       "        vertical-align: middle;\n",
       "    }\n",
       "\n",
       "    .dataframe tbody tr th {\n",
       "        vertical-align: top;\n",
       "    }\n",
       "\n",
       "    .dataframe thead th {\n",
       "        text-align: right;\n",
       "    }\n",
       "</style>\n",
       "<table border=\"1\" class=\"dataframe\">\n",
       "  <thead>\n",
       "    <tr style=\"text-align: right;\">\n",
       "      <th></th>\n",
       "      <th>title</th>\n",
       "      <th>problem</th>\n",
       "      <th>solution</th>\n",
       "      <th>re_phase</th>\n",
       "    </tr>\n",
       "  </thead>\n",
       "  <tbody>\n",
       "    <tr>\n",
       "      <th>0</th>\n",
       "      <td>Software Cinema-Video-based Requirements Engin...</td>\n",
       "      <td>True</td>\n",
       "      <td>True</td>\n",
       "      <td>Validation</td>\n",
       "    </tr>\n",
       "    <tr>\n",
       "      <th>1</th>\n",
       "      <td>Software Cinema-Video-based Requirements Engin...</td>\n",
       "      <td>True</td>\n",
       "      <td>True</td>\n",
       "      <td>Elicitation</td>\n",
       "    </tr>\n",
       "    <tr>\n",
       "      <th>2</th>\n",
       "      <td>Software Cinema-Video-based Requirements Engin...</td>\n",
       "      <td>True</td>\n",
       "      <td>True</td>\n",
       "      <td>Validation</td>\n",
       "    </tr>\n",
       "    <tr>\n",
       "      <th>3</th>\n",
       "      <td>Interactive Multimedia Storyboard for Facilita...</td>\n",
       "      <td>False</td>\n",
       "      <td>True</td>\n",
       "      <td>Validation</td>\n",
       "    </tr>\n",
       "    <tr>\n",
       "      <th>4</th>\n",
       "      <td>Interactive Multimedia Storyboard for Facilita...</td>\n",
       "      <td>False</td>\n",
       "      <td>True</td>\n",
       "      <td>Elicitation</td>\n",
       "    </tr>\n",
       "  </tbody>\n",
       "</table>\n",
       "</div>"
      ],
      "text/plain": [
       "                                               title problem solution  \\\n",
       "0  Software Cinema-Video-based Requirements Engin...    True     True   \n",
       "1  Software Cinema-Video-based Requirements Engin...    True     True   \n",
       "2  Software Cinema-Video-based Requirements Engin...    True     True   \n",
       "3  Interactive Multimedia Storyboard for Facilita...   False     True   \n",
       "4  Interactive Multimedia Storyboard for Facilita...   False     True   \n",
       "\n",
       "      re_phase  \n",
       "0   Validation  \n",
       "1  Elicitation  \n",
       "2   Validation  \n",
       "3   Validation  \n",
       "4  Elicitation  "
      ]
     },
     "execution_count": 14,
     "metadata": {},
     "output_type": "execute_result"
    }
   ],
   "source": [
    "query = \"\"\"\n",
    "        SELECT ?title, ?problem, ?solution, ?re_phase\n",
    "          WHERE {\n",
    "            {\n",
    "              ?paper orkgp:P31 ?contribution.\n",
    "              ?contribution a orkgc:C23037.\n",
    "              ?contribution rdfs:label ?contribution_name.\n",
    "              ?paper rdfs:label ?title.\n",
    "              ?contribution orkgp:P37544/orkgp:P45098 ?video.\n",
    "              ?contribution orkgp:P37544/orkgp:P15340 ?context.\n",
    "              ?context orkgp:P41611/rdfs:label ?re_phase.\n",
    "              ?video orkgp:P11 ?problem.\n",
    "              ?video orkgp:P12 ?solution.}\n",
    "            UNION\n",
    "            {\n",
    "              ?paper orkgp:P31 ?contribution.\n",
    "              ?contribution a orkgc:C23037.\n",
    "              ?contribution rdfs:label ?contribution_name.\n",
    "              ?paper rdfs:label ?title.\n",
    "              ?contribution orkgp:P37544/orkgp:P45098 ?video.\n",
    "              ?contribution orkgp:P37544/orkgp:P15340 ?context.\n",
    "              ?context orkgp:P41611/rdfs:label ?re_phase.\n",
    "              ?video orkgp:P12 ?solution.}\n",
    "            UNION\n",
    "            {\n",
    "              ?paper orkgp:P31 ?contribution.\n",
    "              ?contribution a orkgc:C23037.\n",
    "              ?contribution rdfs:label ?contribution_name.\n",
    "              ?paper rdfs:label ?title.\n",
    "              ?contribution orkgp:P37544/orkgp:P45098 ?video.\n",
    "              ?contribution orkgp:P37544/orkgp:P15340 ?context.\n",
    "              ?context orkgp:P41611/rdfs:label ?re_phase.\n",
    "              ?video orkgp:P11 ?problem.}\n",
    "            }\n",
    "\n",
    "\n",
    "        \"\"\"\n",
    "data = sparql_dataframe.get(ENDPOINT_URL, PREFIXES+query)\n",
    "data.head()"
   ]
  },
  {
   "cell_type": "markdown",
   "id": "903cb4a8-60d4-406f-9a90-fddba54b7c5f",
   "metadata": {},
   "source": [
    "#### Generate graph\n",
    "\n",
    "After the required data is received, a new grpah is created to represent the data. This should help to answer the corresponding question."
   ]
  },
  {
   "cell_type": "code",
   "execution_count": 15,
   "id": "edcf5e81-e2b9-43ef-9f76-c025c43fde66",
   "metadata": {},
   "outputs": [
    {
     "data": {
      "image/png": "[encoded data removed]",
      "text/plain": [
       "<Figure size 432x288 with 1 Axes>"
      ]
     },
     "metadata": {
      "needs_background": "light"
     },
     "output_type": "display_data"
    }
   ],
   "source": [
    "import numpy as np\n",
    "\n",
    "\n",
    "context_data = []\n",
    "duplicates = []\n",
    "for index, row in data.iterrows():\n",
    "    paper_title = row['title']\n",
    "    item_data = []\n",
    "    if not pd.isnull(row['problem']) and row['problem'] == True:\n",
    "        item_data.append('problem')\n",
    "    if not pd.isnull(row['solution']) and row['solution'] == True:\n",
    "        item_data.append('solution')\n",
    "    if len(item_data) > 0:\n",
    "        context_data.append({'re_phase':row['re_phase'], 'video_as':item_data})\n",
    "\n",
    "labels = []\n",
    "problem = []\n",
    "solution = []\n",
    "problem_and_solution = []\n",
    "for item in context_data:\n",
    "    if item['re_phase'] not in labels:\n",
    "        labels.append(item['re_phase'])\n",
    "        prob_counter = 0\n",
    "        sol_counter = 0\n",
    "        double_counter = 0\n",
    "        for i in context_data:\n",
    "            if item['re_phase'] == i['re_phase']:\n",
    "                if 'problem' in i['video_as'] and 'solution' in i['video_as']:\n",
    "                    double_counter+=1\n",
    "                elif 'problem' in i['video_as']:\n",
    "                    prob_counter+=1\n",
    "                elif 'solution' in i['video_as']:\n",
    "                    sol_counter+=1\n",
    "        problem.append(prob_counter)\n",
    "        solution.append(sol_counter)\n",
    "        problem_and_solution.append(double_counter)\n",
    "\n",
    "\n",
    "x = np.arange(len(labels))  # the label locations\n",
    "width = 0.35  # the width of the bars\n",
    "\n",
    "fig, ax = plt.subplots()\n",
    "rects1 = ax.bar(x - width/2, problem, width, label='Problem')\n",
    "rects2 = ax.bar(x + width/2, solution, width, label='Solution')\n",
    "rects3 = ax.bar(x + width, problem_and_solution, width, label='Problem and Solution')\n",
    "\n",
    "# Add some text for labels, title and custom x-axis tick labels, etc.\n",
    "ax.set_ylabel('Number of occurrences')\n",
    "ax.set_title('Use of Videos to discribe Problem/Solution in RE Phases')\n",
    "ax.set_xticks(x, labels)\n",
    "ax.legend()\n",
    "\n",
    "ax.bar_label(rects1, padding=3)\n",
    "ax.bar_label(rects2, padding=3)\n",
    "ax.bar_label(rects3, padding=3)\n",
    "plt.rcParams[\"figure.figsize\"] = (10,5)\n",
    "fig.tight_layout()\n",
    "plt.show()"
   ]
  },
  {
   "cell_type": "markdown",
   "id": "06d77f59-23e8-4ab6-a7aa-920b5ce4c751",
   "metadata": {},
   "source": [
    "### Who produces the videos?\n",
    "\n",
    "New query is created with aim of getting corresponding data from ORKG, to find out, who is mentioned as a producer of the video."
   ]
  },
  {
   "cell_type": "code",
   "execution_count": 16,
   "id": "c4af4995-dd5a-45b4-8f7f-194bdb5292e8",
   "metadata": {},
   "outputs": [
    {
     "data": {
      "text/html": [
       "<div>\n",
       "<style scoped>\n",
       "    .dataframe tbody tr th:only-of-type {\n",
       "        vertical-align: middle;\n",
       "    }\n",
       "\n",
       "    .dataframe tbody tr th {\n",
       "        vertical-align: top;\n",
       "    }\n",
       "\n",
       "    .dataframe thead th {\n",
       "        text-align: right;\n",
       "    }\n",
       "</style>\n",
       "<table border=\"1\" class=\"dataframe\">\n",
       "  <thead>\n",
       "    <tr style=\"text-align: right;\">\n",
       "      <th></th>\n",
       "      <th>title</th>\n",
       "      <th>producer</th>\n",
       "    </tr>\n",
       "  </thead>\n",
       "  <tbody>\n",
       "    <tr>\n",
       "      <th>0</th>\n",
       "      <td>Videos vs. Use Cases: Can Videos Capture More ...</td>\n",
       "      <td>Requirements Engineer</td>\n",
       "    </tr>\n",
       "    <tr>\n",
       "      <th>1</th>\n",
       "      <td>Interactive Multimedia Storyboard for Facilita...</td>\n",
       "      <td>Requirements Engineer</td>\n",
       "    </tr>\n",
       "    <tr>\n",
       "      <th>2</th>\n",
       "      <td>Speculative Requirements: Design Fiction and RE</td>\n",
       "      <td>Actor</td>\n",
       "    </tr>\n",
       "    <tr>\n",
       "      <th>3</th>\n",
       "      <td>Speculative Requirements: Design Fiction and RE</td>\n",
       "      <td>Author</td>\n",
       "    </tr>\n",
       "    <tr>\n",
       "      <th>4</th>\n",
       "      <td>Refining Vision Videos</td>\n",
       "      <td>Requirements Engineer</td>\n",
       "    </tr>\n",
       "  </tbody>\n",
       "</table>\n",
       "</div>"
      ],
      "text/plain": [
       "                                               title               producer\n",
       "0  Videos vs. Use Cases: Can Videos Capture More ...  Requirements Engineer\n",
       "1  Interactive Multimedia Storyboard for Facilita...  Requirements Engineer\n",
       "2    Speculative Requirements: Design Fiction and RE                  Actor\n",
       "3    Speculative Requirements: Design Fiction and RE                 Author\n",
       "4                             Refining Vision Videos  Requirements Engineer"
      ]
     },
     "execution_count": 16,
     "metadata": {},
     "output_type": "execute_result"
    }
   ],
   "source": [
    "query = \"\"\"\n",
    "        SELECT ?title, ?producer\n",
    "        WHERE {\n",
    "              ?paper orkgp:P31 ?contribution.\n",
    "              ?contribution a orkgc:C23037.\n",
    "              ?contribution rdfs:label ?contribution_name.\n",
    "              ?paper rdfs:label ?title.\n",
    "              ?contribution orkgp:P45119 ?production.\n",
    "              ?production orkgp:P45077/rdfs:label ?producer.\n",
    "             }\n",
    "        \"\"\"\n",
    "data = sparql_dataframe.get(ENDPOINT_URL, PREFIXES+query)\n",
    "data.head()"
   ]
  },
  {
   "cell_type": "markdown",
   "id": "8c9a20e0-0801-453f-899c-f9d8a2ec4937",
   "metadata": {},
   "source": [
    "#### Generate grpah\n",
    "\n",
    "Another graph is generated afterwards to get the visual representation of the data."
   ]
  },
  {
   "cell_type": "code",
   "execution_count": 17,
   "id": "bea09b9e-3f14-4121-b906-a4bf70fb89c9",
   "metadata": {},
   "outputs": [
    {
     "data": {
      "text/plain": [
       "<AxesSubplot:xlabel='Producer', ylabel='Number of Occurrences'>"
      ]
     },
     "execution_count": 17,
     "metadata": {},
     "output_type": "execute_result"
    },
    {
     "data": {
      "image/png": "[encoded data removed]",
      "text/plain": [
       "<Figure size 720x360 with 1 Axes>"
      ]
     },
     "metadata": {
      "needs_background": "light"
     },
     "output_type": "display_data"
    }
   ],
   "source": [
    "data['producer'].value_counts().plot(kind='bar',\n",
    "                                     xlabel='Producer',\n",
    "                                     ylabel='Number of Occurrences',\n",
    "                                     color='violet')"
   ]
  },
  {
   "cell_type": "markdown",
   "id": "702e4f72-ac07-4469-8ae2-392e47008a98",
   "metadata": {},
   "source": [
    "### What types of videos tend to have high costs?\n",
    "\n",
    "First a different set of data is required to be able to answer the question."
   ]
  },
  {
   "cell_type": "code",
   "execution_count": 18,
   "id": "f4b8bcbf-e872-4392-8e8e-8a283241ce6f",
   "metadata": {},
   "outputs": [
    {
     "data": {
      "text/html": [
       "<div>\n",
       "<style scoped>\n",
       "    .dataframe tbody tr th:only-of-type {\n",
       "        vertical-align: middle;\n",
       "    }\n",
       "\n",
       "    .dataframe tbody tr th {\n",
       "        vertical-align: top;\n",
       "    }\n",
       "\n",
       "    .dataframe thead th {\n",
       "        text-align: right;\n",
       "    }\n",
       "</style>\n",
       "<table border=\"1\" class=\"dataframe\">\n",
       "  <thead>\n",
       "    <tr style=\"text-align: right;\">\n",
       "      <th></th>\n",
       "      <th>title</th>\n",
       "      <th>high_cost</th>\n",
       "      <th>video_type</th>\n",
       "    </tr>\n",
       "  </thead>\n",
       "  <tbody>\n",
       "    <tr>\n",
       "      <th>0</th>\n",
       "      <td>Videos vs. Use Cases: Can Videos Capture More ...</td>\n",
       "      <td>True</td>\n",
       "      <td>Ad-hoc video with respect to use cases</td>\n",
       "    </tr>\n",
       "    <tr>\n",
       "      <th>1</th>\n",
       "      <td>Refining Vision Videos</td>\n",
       "      <td>True</td>\n",
       "      <td>Vision video</td>\n",
       "    </tr>\n",
       "    <tr>\n",
       "      <th>2</th>\n",
       "      <td>Refining Vision Videos</td>\n",
       "      <td>True</td>\n",
       "      <td>Vision video</td>\n",
       "    </tr>\n",
       "    <tr>\n",
       "      <th>3</th>\n",
       "      <td>User model and system model: the yin and yang ...</td>\n",
       "      <td>True</td>\n",
       "      <td>record</td>\n",
       "    </tr>\n",
       "    <tr>\n",
       "      <th>4</th>\n",
       "      <td>User model and system model: the yin and yang ...</td>\n",
       "      <td>True</td>\n",
       "      <td>Scenario of pixels</td>\n",
       "    </tr>\n",
       "  </tbody>\n",
       "</table>\n",
       "</div>"
      ],
      "text/plain": [
       "                                               title  high_cost  \\\n",
       "0  Videos vs. Use Cases: Can Videos Capture More ...       True   \n",
       "1                             Refining Vision Videos       True   \n",
       "2                             Refining Vision Videos       True   \n",
       "3  User model and system model: the yin and yang ...       True   \n",
       "4  User model and system model: the yin and yang ...       True   \n",
       "\n",
       "                               video_type  \n",
       "0  Ad-hoc video with respect to use cases  \n",
       "1                            Vision video  \n",
       "2                            Vision video  \n",
       "3                                  record  \n",
       "4                      Scenario of pixels  "
      ]
     },
     "execution_count": 18,
     "metadata": {},
     "output_type": "execute_result"
    }
   ],
   "source": [
    "query = \"\"\"\n",
    "        SELECT ?title, ?high_cost, ?video_type\n",
    "        WHERE {\n",
    "              ?paper orkgp:P31 ?contribution.\n",
    "              ?contribution a orkgc:C23037.\n",
    "              ?contribution rdfs:label ?contribution_name.\n",
    "              ?paper rdfs:label ?title.\n",
    "              ?contribution orkgp:P45119 ?production.\n",
    "              ?production orkgp:P67104 ?high_cost.\n",
    "              ?production orkgp:P45098/orkgp:P3/rdfs:label ?video_type.\n",
    "             }\n",
    "        \"\"\"\n",
    "data = sparql_dataframe.get(ENDPOINT_URL, PREFIXES+query)\n",
    "data.head()"
   ]
  },
  {
   "cell_type": "markdown",
   "id": "0a9402d3-1b41-423a-8d97-49f06140584c",
   "metadata": {},
   "source": [
    "#### Generate graph\n",
    "\n",
    "A graph with the type of the videos with the high production costs is created to represent the data."
   ]
  },
  {
   "cell_type": "code",
   "execution_count": 45,
   "id": "418a02c4-8a5d-4e73-8e9a-9ac7acfc9ef7",
   "metadata": {},
   "outputs": [
    {
     "data": {
      "image/png": "[encoded data removed]",
      "text/plain": [
       "<Figure size 720x216 with 1 Axes>"
      ]
     },
     "metadata": {
      "needs_background": "light"
     },
     "output_type": "display_data"
    }
   ],
   "source": [
    "data_list = []\n",
    "y_axis = []\n",
    "labels = []\n",
    "for index, row in data.iterrows():\n",
    "    if not pd.isnull(row['high_cost']) and row['high_cost'] == True:\n",
    "        data_list.append(row['video_type'])\n",
    "\n",
    "x = np.arange(len(pd.Series(data_list).value_counts().index.tolist()))\n",
    "fig, ax = plt.subplots()\n",
    "rects1 = ax.bar(x, pd.Series(data_list).value_counts(), width, label='Low-Fidelity', color='green')\n",
    "\n",
    "# Add some text for labels, title and custom x-axis tick labels, etc.\n",
    "\n",
    "ax.set_ylabel('Number of occurrences')\n",
    "ax.set_title('Type of the Video')\n",
    "ax.set_xticks(x, pd.Series(data_list).value_counts().index.tolist())\n",
    "\n",
    "ax.bar_label(rects1, padding=2)\n",
    "plt.rcParams[\"figure.figsize\"] = (10,3)\n",
    "fig.tight_layout()\n",
    "fig.autofmt_xdate()\n",
    "plt.show()\n"
   ]
  },
  {
   "cell_type": "markdown",
   "id": "915e299b-5c87-4943-b87c-6e3d8f6c3116",
   "metadata": {},
   "source": [
    "### Which types of videos are most low-fidelity and which are high-fidelity?\n",
    "\n",
    "To be able to find an answer for this question, another data is required form ORKG. The neq query is created to get new set of data."
   ]
  },
  {
   "cell_type": "code",
   "execution_count": null,
   "id": "62aa7261-566d-478d-adb9-80187c1daa20",
   "metadata": {},
   "outputs": [],
   "source": [
    "query = \"\"\"\n",
    "        SELECT ?title, ?video_type, ?high_fidelity, ?low_fidelity\n",
    "          WHERE {\n",
    "            {\n",
    "              ?paper orkgp:P31 ?contribution.\n",
    "              ?contribution a orkgc:C23037.\n",
    "              ?contribution rdfs:label ?contribution_name.\n",
    "              ?paper rdfs:label ?title.\n",
    "              ?contribution orkgp:P37544/orkgp:P45098 ?video.\n",
    "              ?video orkgp:P3/rdfs:label ?video_type.\n",
    "              ?video orkgp:P68023 ?high_fidelity.}\n",
    "            UNION {\n",
    "              ?paper orkgp:P31 ?contribution.\n",
    "              ?contribution a orkgc:C23037.\n",
    "              ?contribution rdfs:label ?contribution_name.\n",
    "              ?paper rdfs:label ?title.\n",
    "              ?contribution orkgp:P37544/orkgp:P45098 ?video.\n",
    "              ?video orkgp:P3/rdfs:label ?video_type.\n",
    "              ?video orkgp:P68024 ?low_fidelity.}\n",
    "          }\n",
    "        \"\"\"\n",
    "data = sparql_dataframe.get(ENDPOINT_URL, PREFIXES+query)\n",
    "data.head()"
   ]
  },
  {
   "cell_type": "markdown",
   "id": "9a506b29-a002-4a80-9f7b-4b50de5d32ba",
   "metadata": {},
   "source": [
    "#### Generate grpah\n",
    "\n",
    "A new graph, representig the videos with high and low fidelity is created with the aim of representig the data visually and helping to answer the corresponding competency question."
   ]
  },
  {
   "cell_type": "code",
   "execution_count": null,
   "id": "aa8416d7-a84d-4714-bf80-c36cfab7fcda",
   "metadata": {},
   "outputs": [],
   "source": [
    "context_data = []\n",
    "duplicates = []\n",
    "for index, row in data.iterrows():\n",
    "    paper_title = row['title']\n",
    "    item_data = []\n",
    "    if not pd.isnull(row['high_fidelity']) and row['high_fidelity'] == True:\n",
    "        item_data.append('high_fidelity')\n",
    "    if not pd.isnull(row['low_fidelity']) and row['low_fidelity'] == True:\n",
    "        item_data.append('low_fidelity')\n",
    "    if len(item_data) > 0:\n",
    "        context_data.append({'video_type':row['video_type'], 'fidelity':item_data})\n",
    "\n",
    "labels = []\n",
    "low_fi = []\n",
    "hi_fi = []\n",
    "for item in context_data:\n",
    "    if item['video_type'] not in labels:\n",
    "        labels.append(item['video_type'])\n",
    "        low_count = 0\n",
    "        hi_count = 0\n",
    "        for i in context_data:\n",
    "            if item['video_type'] == i['video_type']:\n",
    "                if 'low_fidelity' in i['fidelity']:\n",
    "                    low_count+=1\n",
    "                elif 'high_fidelity' in i['fidelity']:\n",
    "                    hi_count+=1\n",
    "        low_fi.append(low_count)\n",
    "        hi_fi.append(hi_count)\n",
    "\n",
    "\n",
    "\n",
    "x = np.arange(len(labels))  # the label locations\n",
    "width = 0.35  # the width of the bars\n",
    "\n",
    "fig, ax = plt.subplots()\n",
    "rects1 = ax.bar(x - width/2, low_fi, width, label='Low-Fidelity')\n",
    "rects2 = ax.bar(x + width/2, hi_fi, width, label='High-Fidelity')\n",
    "\n",
    "# Add some text for labels, title and custom x-axis tick labels, etc.\n",
    "ax.set_ylabel('Number of occurrences')\n",
    "ax.set_title('Fidelity of the Videos')\n",
    "ax.set_xticks(x, labels)\n",
    "ax.legend()\n",
    "\n",
    "ax.bar_label(rects1, padding=2)\n",
    "ax.bar_label(rects2, padding=2)\n",
    "plt.rcParams[\"figure.figsize\"] = (10,3)\n",
    "fig.tight_layout()\n",
    "fig.autofmt_xdate()\n",
    "plt.show()"
   ]
  }
 ],
 "metadata": {
  "kernelspec": {
   "display_name": "Python 3 (ipykernel)",
   "language": "python",
   "name": "python3"
  },
  "language_info": {
   "codemirror_mode": {
    "name": "ipython",
    "version": 3
   },
   "file_extension": ".py",
   "mimetype": "text/x-python",
   "name": "python",
   "nbconvert_exporter": "python",
   "pygments_lexer": "ipython3",
   "version": "3.9.13"
  }
 },
 "nbformat": 4,
 "nbformat_minor": 5
}
