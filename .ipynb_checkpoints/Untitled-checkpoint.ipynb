{
 "cells": [
  {
   "cell_type": "markdown",
   "id": "158ddfd3-3a06-43ba-8215-2c70271be6f9",
   "metadata": {},
   "source": [
    "<h2>Dependency of the guidelines from the year of publication.<h2>"
   ]
  },
  {
   "cell_type": "code",
   "execution_count": 1,
   "id": "a7a38ad8-f36c-461d-9bdf-39157a22c930",
   "metadata": {},
   "outputs": [
    {
     "data": {
      "text/html": [
       "<div>\n",
       "<style scoped>\n",
       "    .dataframe tbody tr th:only-of-type {\n",
       "        vertical-align: middle;\n",
       "    }\n",
       "\n",
       "    .dataframe tbody tr th {\n",
       "        vertical-align: top;\n",
       "    }\n",
       "\n",
       "    .dataframe thead th {\n",
       "        text-align: right;\n",
       "    }\n",
       "</style>\n",
       "<table border=\"1\" class=\"dataframe\">\n",
       "  <thead>\n",
       "    <tr style=\"text-align: right;\">\n",
       "      <th></th>\n",
       "      <th>contribution</th>\n",
       "      <th>title</th>\n",
       "      <th>year</th>\n",
       "      <th>guideline_name</th>\n",
       "    </tr>\n",
       "  </thead>\n",
       "  <tbody>\n",
       "    <tr>\n",
       "      <th>0</th>\n",
       "      <td>http://orkg.org/orkg/resource/R172987</td>\n",
       "      <td>Vision Video Making with Novices: A Research P...</td>\n",
       "      <td>2022.0</td>\n",
       "      <td>Guideline</td>\n",
       "    </tr>\n",
       "    <tr>\n",
       "      <th>1</th>\n",
       "      <td>http://orkg.org/orkg/resource/R159702</td>\n",
       "      <td>Feed me, feed me: an exemplar for engineering ...</td>\n",
       "      <td>2016.0</td>\n",
       "      <td>ContraVision</td>\n",
       "    </tr>\n",
       "    <tr>\n",
       "      <th>2</th>\n",
       "      <td>http://orkg.org/orkg/resource/R159764</td>\n",
       "      <td>Video artifacts for design: bridging the Gap b...</td>\n",
       "      <td>2000.0</td>\n",
       "      <td>Wizard of Oz</td>\n",
       "    </tr>\n",
       "    <tr>\n",
       "      <th>3</th>\n",
       "      <td>http://orkg.org/orkg/resource/R159669</td>\n",
       "      <td>Using Video Clips to Support Requirements Elic...</td>\n",
       "      <td>2007.0</td>\n",
       "      <td>Documentary</td>\n",
       "    </tr>\n",
       "    <tr>\n",
       "      <th>4</th>\n",
       "      <td>http://orkg.org/orkg/resource/R159644</td>\n",
       "      <td>Requirements elicitation and validation with r...</td>\n",
       "      <td>1998.0</td>\n",
       "      <td>Real Wolrd Example (RWE)</td>\n",
       "    </tr>\n",
       "  </tbody>\n",
       "</table>\n",
       "</div>"
      ],
      "text/plain": [
       "                            contribution  \\\n",
       "0  http://orkg.org/orkg/resource/R172987   \n",
       "1  http://orkg.org/orkg/resource/R159702   \n",
       "2  http://orkg.org/orkg/resource/R159764   \n",
       "3  http://orkg.org/orkg/resource/R159669   \n",
       "4  http://orkg.org/orkg/resource/R159644   \n",
       "\n",
       "                                               title    year  \\\n",
       "0  Vision Video Making with Novices: A Research P...  2022.0   \n",
       "1  Feed me, feed me: an exemplar for engineering ...  2016.0   \n",
       "2  Video artifacts for design: bridging the Gap b...  2000.0   \n",
       "3  Using Video Clips to Support Requirements Elic...  2007.0   \n",
       "4  Requirements elicitation and validation with r...  1998.0   \n",
       "\n",
       "             guideline_name  \n",
       "0                 Guideline  \n",
       "1              ContraVision  \n",
       "2              Wizard of Oz  \n",
       "3               Documentary  \n",
       "4  Real Wolrd Example (RWE)  "
      ]
     },
     "execution_count": 1,
     "metadata": {},
     "output_type": "execute_result"
    }
   ],
   "source": [
    "import sparql_dataframe\n",
    "\n",
    "\n",
    "ENDPOINT_URL = \"https://www.orkg.org/orkg/triplestore\"\n",
    "\n",
    "PREFIXES =  \"\"\"\n",
    "            PREFIX orkgr: <http://orkg.org/orkg/resource/>\n",
    "            PREFIX orkgc: <http://orkg.org/orkg/class/>\n",
    "            PREFIX orkgp: <http://orkg.org/orkg/predicate/>\n",
    "            PREFIX rdfs: <http://www.w3.org/2000/01/rdf-schema#>\n",
    "            \"\"\"\n",
    "query = \"\"\"\n",
    "        SELECT ?contribution, ?title, ?year, ?guideline_name\n",
    "            WHERE {\n",
    "              ?paper orkgp:P31 ?contribution.\n",
    "              ?contribution a orkgc:C23037.\n",
    "              ?contribution rdfs:label ?contribution_name.\n",
    "              ?paper rdfs:label ?title.\n",
    "              OPTIONAL{?contribution orkgp:P45119 ?production.\n",
    "              ?production orkgp:P45079 ?guideline.\n",
    "              ?guideline orkgp:P3 ?type.\n",
    "              ?type rdfs:label ?guideline_name.}\n",
    "              OPTIONAL{?paper orkgp:P29 ?year_resrc.\n",
    "                       BIND(IF(isLiteral(?year_resrc), ?year_resrc, \"\") AS ?year1)\n",
    "                       OPTIONAL{?year_resrc rdfs:label ?year_label.}\n",
    "                       BIND(IF(BOUND(?year_label),?year_label, \"\") AS ?year2)\n",
    "                       BIND(IF(?year1 = \"\", ?year2, ?year1) AS ?year)\n",
    "                      }\n",
    "             }\n",
    "          \"\"\"\n",
    "data = sparql_dataframe.get(ENDPOINT_URL, PREFIXES+query)\n",
    "data.head()"
   ]
  },
  {
   "cell_type": "markdown",
   "id": "a4c14d00-e41d-4a53-a30f-f61c594e4157",
   "metadata": {},
   "source": [
    "<h3>Generate Grpah<h3>"
   ]
  },
  {
   "cell_type": "code",
   "execution_count": 2,
   "id": "569e64e3-dadf-45bd-a7e0-d51aa22a00d5",
   "metadata": {},
   "outputs": [
    {
     "data": {
      "text/plain": [
       "<AxesSubplot:xlabel='name of the guideline', ylabel='year'>"
      ]
     },
     "execution_count": 2,
     "metadata": {},
     "output_type": "execute_result"
    },
    {
     "data": {
      "image/png": "[encoded data removed]",
      "text/plain": [
       "<Figure size 720x360 with 1 Axes>"
      ]
     },
     "metadata": {
      "needs_background": "light"
     },
     "output_type": "display_data"
    }
   ],
   "source": [
    "import matplotlib.pyplot as plt\n",
    "import pandas as pd\n",
    "\n",
    "data_guidelines = []\n",
    "for index, row in data.iterrows():\n",
    "    if not pd.isnull(row['guideline_name']):\n",
    "        data_guidelines.append([row['year'], row['guideline_name']])\n",
    "\n",
    "df = pd.DataFrame(data_guidelines,columns=['year','guideline_name'])\n",
    "df.plot(kind='scatter',\n",
    "         x='year',\n",
    "         y='guideline_name',\n",
    "         xlabel='name of the guideline',\n",
    "         ylabel='year',\n",
    "         figsize=(10,5))"
   ]
  },
  {
   "cell_type": "markdown",
   "id": "7dacc238-1081-4c40-855c-659928c84913",
   "metadata": {},
   "source": [
    "<h3> All context (find most popular characteristic) <h3>"
   ]
  },
  {
   "cell_type": "code",
   "execution_count": 3,
   "id": "af59ec25-8414-4b21-98fc-c6c861e985b4",
   "metadata": {},
   "outputs": [
    {
     "data": {
      "text/html": [
       "<div>\n",
       "<style scoped>\n",
       "    .dataframe tbody tr th:only-of-type {\n",
       "        vertical-align: middle;\n",
       "    }\n",
       "\n",
       "    .dataframe tbody tr th {\n",
       "        vertical-align: top;\n",
       "    }\n",
       "\n",
       "    .dataframe thead th {\n",
       "        text-align: right;\n",
       "    }\n",
       "</style>\n",
       "<table border=\"1\" class=\"dataframe\">\n",
       "  <thead>\n",
       "    <tr style=\"text-align: right;\">\n",
       "      <th></th>\n",
       "      <th>title</th>\n",
       "      <th>re_phase</th>\n",
       "      <th>group</th>\n",
       "      <th>individual</th>\n",
       "      <th>virtual</th>\n",
       "      <th>physical</th>\n",
       "      <th>async</th>\n",
       "      <th>sync</th>\n",
       "    </tr>\n",
       "  </thead>\n",
       "  <tbody>\n",
       "    <tr>\n",
       "      <th>0</th>\n",
       "      <td>Viewing Vision Videos Online: Opportunities fo...</td>\n",
       "      <td>Validation</td>\n",
       "      <td>True</td>\n",
       "      <td>True</td>\n",
       "      <td>True</td>\n",
       "      <td>False</td>\n",
       "      <td>True</td>\n",
       "      <td>True</td>\n",
       "    </tr>\n",
       "    <tr>\n",
       "      <th>1</th>\n",
       "      <td>Viewing Vision Videos Online: Opportunities fo...</td>\n",
       "      <td>Elicitation</td>\n",
       "      <td>True</td>\n",
       "      <td>True</td>\n",
       "      <td>True</td>\n",
       "      <td>False</td>\n",
       "      <td>True</td>\n",
       "      <td>True</td>\n",
       "    </tr>\n",
       "    <tr>\n",
       "      <th>2</th>\n",
       "      <td>Supporting Requirements Elicitation by Tool-Su...</td>\n",
       "      <td>Documentation</td>\n",
       "      <td>False</td>\n",
       "      <td>True</td>\n",
       "      <td>False</td>\n",
       "      <td>True</td>\n",
       "      <td>True</td>\n",
       "      <td>False</td>\n",
       "    </tr>\n",
       "    <tr>\n",
       "      <th>3</th>\n",
       "      <td>Supporting Requirements Elicitation by Tool-Su...</td>\n",
       "      <td>Elicitation</td>\n",
       "      <td>False</td>\n",
       "      <td>True</td>\n",
       "      <td>False</td>\n",
       "      <td>True</td>\n",
       "      <td>True</td>\n",
       "      <td>False</td>\n",
       "    </tr>\n",
       "    <tr>\n",
       "      <th>4</th>\n",
       "      <td>Vision Meets Visualization: Are Animated Video...</td>\n",
       "      <td>Elicitation</td>\n",
       "      <td>False</td>\n",
       "      <td>True</td>\n",
       "      <td>False</td>\n",
       "      <td>True</td>\n",
       "      <td>False</td>\n",
       "      <td>True</td>\n",
       "    </tr>\n",
       "  </tbody>\n",
       "</table>\n",
       "</div>"
      ],
      "text/plain": [
       "                                               title       re_phase  group  \\\n",
       "0  Viewing Vision Videos Online: Opportunities fo...     Validation   True   \n",
       "1  Viewing Vision Videos Online: Opportunities fo...    Elicitation   True   \n",
       "2  Supporting Requirements Elicitation by Tool-Su...  Documentation  False   \n",
       "3  Supporting Requirements Elicitation by Tool-Su...    Elicitation  False   \n",
       "4  Vision Meets Visualization: Are Animated Video...    Elicitation  False   \n",
       "\n",
       "  individual virtual physical  async   sync  \n",
       "0       True    True    False   True   True  \n",
       "1       True    True    False   True   True  \n",
       "2       True   False     True   True  False  \n",
       "3       True   False     True   True  False  \n",
       "4       True   False     True  False   True  "
      ]
     },
     "execution_count": 3,
     "metadata": {},
     "output_type": "execute_result"
    }
   ],
   "source": [
    "query = \"\"\"\n",
    "SELECT ?title, ?re_phase, ?group, ?individual, ?virtual, ?physical ,?async, ?sync\n",
    "  WHERE {\n",
    "    ?paper orkgp:P31 ?contribution.\n",
    "    ?contribution a orkgc:C23037.\n",
    "    ?contribution rdfs:label ?contribution_name.\n",
    "    ?paper rdfs:label ?title.\n",
    "    ?contribution orkgp:P37544/orkgp:P15340 ?context.\n",
    "    OPTIONAL{?context orkgp:P35126 ?group.}\n",
    "    OPTIONAL{?context orkgp:P41611/rdfs:label ?re_phase.}\n",
    "    OPTIONAL{?context orkgp:P45102 ?individual.}\n",
    "    OPTIONAL{?context orkgp:P45103 ?virtual.}\n",
    "    OPTIONAL{?context orkgp:P45104 ?physical.}\n",
    "    OPTIONAL{?context orkgp:P45105 ?async.}\n",
    "    OPTIONAL{?context orkgp:P45106 ?sync.}\n",
    "    }\n",
    "        \"\"\"\n",
    "data = sparql_dataframe.get(ENDPOINT_URL, PREFIXES+query)\n",
    "data.head()"
   ]
  },
  {
   "cell_type": "markdown",
   "id": "4e191919-5c70-476b-a3de-a08dc005b45a",
   "metadata": {},
   "source": [
    "<h3> Generate Graph <h3>"
   ]
  },
  {
   "cell_type": "code",
   "execution_count": 4,
   "id": "9599a88f-99b1-4fe6-a70e-be08a4afa92f",
   "metadata": {},
   "outputs": [
    {
     "data": {
      "text/plain": [
       "<AxesSubplot:xlabel='context characteristics', ylabel='number of occurrences'>"
      ]
     },
     "execution_count": 4,
     "metadata": {},
     "output_type": "execute_result"
    },
    {
     "data": {
      "image/png": "[encoded data removed]",
      "text/plain": [
       "<Figure size 432x288 with 1 Axes>"
      ]
     },
     "metadata": {
      "needs_background": "light"
     },
     "output_type": "display_data"
    }
   ],
   "source": [
    "paper_duplicates = []\n",
    "context_data = []\n",
    "for index, row in data.iterrows():\n",
    "    #if row['title'] not in paper_duplicates:\n",
    "        paper_duplicates.append(row['title'])\n",
    "        paper_title = row['title']\n",
    "        for idx in range(2,len(row)):\n",
    "            if not pd.isnull(row[idx]) and row[idx] == True:\n",
    "                context_data.append({'paper':paper_title,'characteristic':row.index[idx]})\n",
    "\n",
    "df = pd.DataFrame(context_data)\n",
    "df['characteristic'].value_counts().plot(kind='bar', \n",
    "                                         xlabel='context characteristics', \n",
    "                                         ylabel='number of occurrences')"
   ]
  },
  {
   "cell_type": "markdown",
   "id": "c63eef3f-27df-4576-bfa5-cb8f873c89d2",
   "metadata": {},
   "source": [
    "<h3> Find most popular combination of characteristics <h3>"
   ]
  },
  {
   "cell_type": "code",
   "execution_count": 5,
   "id": "ad2777b8-b88e-4fd2-a4b3-e0b09b61ae1a",
   "metadata": {},
   "outputs": [
    {
     "data": {
      "text/plain": [
       "<AxesSubplot:xlabel='combinations of characteristics', ylabel='number of occurrences'>"
      ]
     },
     "execution_count": 5,
     "metadata": {},
     "output_type": "execute_result"
    },
    {
     "data": {
      "image/png": "[encoded data removed]",
      "text/plain": [
       "<Figure size 720x360 with 1 Axes>"
      ]
     },
     "metadata": {
      "needs_background": "light"
     },
     "output_type": "display_data"
    }
   ],
   "source": [
    "combination_data = []\n",
    "for index, row in data.iterrows():\n",
    "    combination_name = []\n",
    "    for idx in range(2,len(row)):\n",
    "            if not pd.isnull(row[idx]) and row[idx] == True:\n",
    "                combination_name.append(row.index[idx])\n",
    "    if len(combination_name) > 1:\n",
    "        combination_data.append(combination_name)\n",
    "\n",
    "pd.Series(combination_data).value_counts().plot(kind='bar',\n",
    "                                                color='purple',\n",
    "                                                xlabel='combinations of characteristics', \n",
    "                                                ylabel='number of occurrences',\n",
    "                                                figsize=(10,5))"
   ]
  },
  {
   "cell_type": "markdown",
   "id": "23173a9c-fab3-4959-b15e-c46f1d40c5ba",
   "metadata": {},
   "source": [
    "<h3> Only RE Phase (find most popular RE Phase)<h3>"
   ]
  },
  {
   "cell_type": "code",
   "execution_count": 6,
   "id": "19126088-269d-43a2-922c-aea78b907a6e",
   "metadata": {},
   "outputs": [
    {
     "data": {
      "text/html": [
       "<div>\n",
       "<style scoped>\n",
       "    .dataframe tbody tr th:only-of-type {\n",
       "        vertical-align: middle;\n",
       "    }\n",
       "\n",
       "    .dataframe tbody tr th {\n",
       "        vertical-align: top;\n",
       "    }\n",
       "\n",
       "    .dataframe thead th {\n",
       "        text-align: right;\n",
       "    }\n",
       "</style>\n",
       "<table border=\"1\" class=\"dataframe\">\n",
       "  <thead>\n",
       "    <tr style=\"text-align: right;\">\n",
       "      <th></th>\n",
       "      <th>title</th>\n",
       "      <th>re_phase</th>\n",
       "    </tr>\n",
       "  </thead>\n",
       "  <tbody>\n",
       "    <tr>\n",
       "      <th>0</th>\n",
       "      <td>Software Cinema-Video-based Requirements Engin...</td>\n",
       "      <td>Elicitation</td>\n",
       "    </tr>\n",
       "    <tr>\n",
       "      <th>1</th>\n",
       "      <td>Software Cinema-Video-based Requirements Engin...</td>\n",
       "      <td>Validation</td>\n",
       "    </tr>\n",
       "    <tr>\n",
       "      <th>2</th>\n",
       "      <td>Software Cinema-Video-based Requirements Engin...</td>\n",
       "      <td>Validation</td>\n",
       "    </tr>\n",
       "    <tr>\n",
       "      <th>3</th>\n",
       "      <td>Videos vs. Use Cases: Can Videos Capture More ...</td>\n",
       "      <td>Elicitation</td>\n",
       "    </tr>\n",
       "    <tr>\n",
       "      <th>4</th>\n",
       "      <td>Videos vs. Use Cases: Can Videos Capture More ...</td>\n",
       "      <td>Negotiation</td>\n",
       "    </tr>\n",
       "  </tbody>\n",
       "</table>\n",
       "</div>"
      ],
      "text/plain": [
       "                                               title     re_phase\n",
       "0  Software Cinema-Video-based Requirements Engin...  Elicitation\n",
       "1  Software Cinema-Video-based Requirements Engin...   Validation\n",
       "2  Software Cinema-Video-based Requirements Engin...   Validation\n",
       "3  Videos vs. Use Cases: Can Videos Capture More ...  Elicitation\n",
       "4  Videos vs. Use Cases: Can Videos Capture More ...  Negotiation"
      ]
     },
     "execution_count": 6,
     "metadata": {},
     "output_type": "execute_result"
    }
   ],
   "source": [
    "query = \"\"\"\n",
    "SELECT ?title, ?re_phase\n",
    "  WHERE {\n",
    "        ?paper orkgp:P31 ?contribution.\n",
    "        ?contribution a orkgc:C23037.\n",
    "        ?contribution rdfs:label ?contribution_name.\n",
    "        ?paper rdfs:label ?title.\n",
    "        OPTIONAL{?contribution orkgp:P37544/orkgp:P15340 ?context.\n",
    "                 ?context orkgp:P41611/rdfs:label ?re_phase.}\n",
    "        }\"\"\"\n",
    "\n",
    "data = sparql_dataframe.get(ENDPOINT_URL, PREFIXES+query)\n",
    "data.head()"
   ]
  },
  {
   "cell_type": "code",
   "execution_count": 7,
   "id": "16b15d62-70b2-4e3e-98da-acd50669c8e2",
   "metadata": {},
   "outputs": [
    {
     "data": {
      "image/png": "[encoded data removed]",
      "text/plain": [
       "<Figure size 432x288 with 1 Axes>"
      ]
     },
     "metadata": {},
     "output_type": "display_data"
    }
   ],
   "source": [
    "labels = []\n",
    "re_phases_data = []\n",
    "re_phases_list = ['Elicitation', 'Validation', 'Negotiation', 'Verification', 'Documentation', 'Interpretation']\n",
    "\n",
    "#get all found returned re_phases\n",
    "for index, row in data.iterrows():\n",
    "    if not pd.isnull(row['re_phase']) and row['re_phase'] not in labels:\n",
    "        labels.append(row['re_phase'])\n",
    "\n",
    "# form dict to form data for grpah\n",
    "for idx,name in enumerate(data['re_phase'].value_counts().index.tolist()):\n",
    "    re_phases_data.append({'phase':name, 'counts':data['re_phase'].value_counts()[idx]})\n",
    "\n",
    "# find if not all re phases are mentioned in papers    \n",
    "not_occured_phases = list(set(re_phases_list) - set(labels))\n",
    "for phase in not_occured_phases:\n",
    "    labels.append(str(phase))\n",
    "    re_phases_data.append({'phase':str(phase), 'counts':0})\n",
    "\n",
    "# form lables and data for gprah\n",
    "plot_labels = []\n",
    "plot_data = []\n",
    "total = 0\n",
    "for item in re_phases_data:\n",
    "    plot_labels.append(item['phase'])\n",
    "    plot_data.append(item['counts'])\n",
    "    total+=item['counts']\n",
    "\n",
    "plt.pie(plot_data,\n",
    "        labels =plot_labels,\n",
    "        autopct=lambda x: '{:.0f}'.format(x * total / 100),\n",
    "        radius=2)\n",
    "#plt.legend(\"RE Phases\")\n",
    "#plt.title(\"RE Phases\")\n",
    "plt.show()"
   ]
  },
  {
   "cell_type": "markdown",
   "id": "481334fa-9075-4996-bff2-d7d3e9652ae6",
   "metadata": {},
   "source": [
    "<h3> All synonyms of Videos <h3>"
   ]
  },
  {
   "cell_type": "code",
   "execution_count": 8,
   "id": "1e8e215b-177b-4d0d-b0da-57715616f9d9",
   "metadata": {},
   "outputs": [
    {
     "data": {
      "text/html": [
       "<div>\n",
       "<style scoped>\n",
       "    .dataframe tbody tr th:only-of-type {\n",
       "        vertical-align: middle;\n",
       "    }\n",
       "\n",
       "    .dataframe tbody tr th {\n",
       "        vertical-align: top;\n",
       "    }\n",
       "\n",
       "    .dataframe thead th {\n",
       "        text-align: right;\n",
       "    }\n",
       "</style>\n",
       "<table border=\"1\" class=\"dataframe\">\n",
       "  <thead>\n",
       "    <tr style=\"text-align: right;\">\n",
       "      <th></th>\n",
       "      <th>title</th>\n",
       "      <th>video_type</th>\n",
       "    </tr>\n",
       "  </thead>\n",
       "  <tbody>\n",
       "    <tr>\n",
       "      <th>0</th>\n",
       "      <td>Software Cinema-Video-based Requirements Engin...</td>\n",
       "      <td>Vision video</td>\n",
       "    </tr>\n",
       "    <tr>\n",
       "      <th>1</th>\n",
       "      <td>Software Cinema-Video-based Requirements Engin...</td>\n",
       "      <td>Vision video</td>\n",
       "    </tr>\n",
       "    <tr>\n",
       "      <th>2</th>\n",
       "      <td>Videos vs. Use Cases: Can Videos Capture More ...</td>\n",
       "      <td>Ad-hoc video with respect to use cases</td>\n",
       "    </tr>\n",
       "    <tr>\n",
       "      <th>3</th>\n",
       "      <td>On the effect of visual refinement upon user f...</td>\n",
       "      <td>Demonstration Video</td>\n",
       "    </tr>\n",
       "    <tr>\n",
       "      <th>4</th>\n",
       "      <td>On the effect of visual refinement upon user f...</td>\n",
       "      <td>Demonstration Video</td>\n",
       "    </tr>\n",
       "  </tbody>\n",
       "</table>\n",
       "</div>"
      ],
      "text/plain": [
       "                                               title  \\\n",
       "0  Software Cinema-Video-based Requirements Engin...   \n",
       "1  Software Cinema-Video-based Requirements Engin...   \n",
       "2  Videos vs. Use Cases: Can Videos Capture More ...   \n",
       "3  On the effect of visual refinement upon user f...   \n",
       "4  On the effect of visual refinement upon user f...   \n",
       "\n",
       "                               video_type  \n",
       "0                            Vision video  \n",
       "1                            Vision video  \n",
       "2  Ad-hoc video with respect to use cases  \n",
       "3                     Demonstration Video  \n",
       "4                     Demonstration Video  "
      ]
     },
     "execution_count": 8,
     "metadata": {},
     "output_type": "execute_result"
    }
   ],
   "source": [
    "query = \"\"\"\n",
    "SELECT ?title, ?video_type\n",
    "  WHERE {\n",
    "    ?paper orkgp:P31 ?contribution.\n",
    "    ?contribution a orkgc:C23037.\n",
    "    ?contribution rdfs:label ?contribution_name.\n",
    "    ?paper rdfs:label ?title.\n",
    "    OPTIONAL{?contribution orkgp:P37544/orkgp:P45098 ?video.\n",
    "             ?video orkgp:P3/rdfs:label ?video_type.}\n",
    "    }\n",
    "        \"\"\"\n",
    "data = sparql_dataframe.get(ENDPOINT_URL, PREFIXES+query)\n",
    "data.head()"
   ]
  },
  {
   "cell_type": "markdown",
   "id": "3b744dee-f72b-4520-bdb7-5823cb9afce0",
   "metadata": {},
   "source": [
    "<h3> Generate Graph <h3>"
   ]
  },
  {
   "cell_type": "code",
   "execution_count": 9,
   "id": "81128521-93fe-49a6-9255-77a783a9d9cd",
   "metadata": {},
   "outputs": [
    {
     "data": {
      "text/plain": [
       "<AxesSubplot:xlabel='types of video', ylabel='number of occurrences'>"
      ]
     },
     "execution_count": 9,
     "metadata": {},
     "output_type": "execute_result"
    },
    {
     "data": {
      "image/png": "[encoded data removed]",
      "text/plain": [
       "<Figure size 432x288 with 1 Axes>"
      ]
     },
     "metadata": {
      "needs_background": "light"
     },
     "output_type": "display_data"
    }
   ],
   "source": [
    "data['video_type'].value_counts().plot(kind='bar', \n",
    "                                       color='red', \n",
    "                                       xlabel='types of video', \n",
    "                                       ylabel='number of occurrences')"
   ]
  },
  {
   "cell_type": "markdown",
   "id": "0fba44d4-3a46-4e1b-9995-32ed4c7d8d7d",
   "metadata": {},
   "source": [
    "<h3> Dependency of duration of the video from its type <h3>"
   ]
  },
  {
   "cell_type": "code",
   "execution_count": 10,
   "id": "b3a2a648-6a95-43f7-9d51-bad7c19998b0",
   "metadata": {},
   "outputs": [
    {
     "data": {
      "text/html": [
       "<div>\n",
       "<style scoped>\n",
       "    .dataframe tbody tr th:only-of-type {\n",
       "        vertical-align: middle;\n",
       "    }\n",
       "\n",
       "    .dataframe tbody tr th {\n",
       "        vertical-align: top;\n",
       "    }\n",
       "\n",
       "    .dataframe thead th {\n",
       "        text-align: right;\n",
       "    }\n",
       "</style>\n",
       "<table border=\"1\" class=\"dataframe\">\n",
       "  <thead>\n",
       "    <tr style=\"text-align: right;\">\n",
       "      <th></th>\n",
       "      <th>title</th>\n",
       "      <th>video_content</th>\n",
       "      <th>duration</th>\n",
       "      <th>duration_unit</th>\n",
       "    </tr>\n",
       "  </thead>\n",
       "  <tbody>\n",
       "    <tr>\n",
       "      <th>0</th>\n",
       "      <td>On the effect of visual refinement upon user f...</td>\n",
       "      <td>Prototype</td>\n",
       "      <td>3.5</td>\n",
       "      <td>Minute</td>\n",
       "    </tr>\n",
       "    <tr>\n",
       "      <th>1</th>\n",
       "      <td>Refining Vision Videos</td>\n",
       "      <td>Vision</td>\n",
       "      <td>218.0</td>\n",
       "      <td>Second</td>\n",
       "    </tr>\n",
       "    <tr>\n",
       "      <th>2</th>\n",
       "      <td>Refining Vision Videos</td>\n",
       "      <td>Vision</td>\n",
       "      <td>215.0</td>\n",
       "      <td>Second</td>\n",
       "    </tr>\n",
       "    <tr>\n",
       "      <th>3</th>\n",
       "      <td>Vision Meets Visualization: Are Animated Video...</td>\n",
       "      <td>Vision</td>\n",
       "      <td>112.0</td>\n",
       "      <td>Second</td>\n",
       "    </tr>\n",
       "    <tr>\n",
       "      <th>4</th>\n",
       "      <td>Vision Meets Visualization: Are Animated Video...</td>\n",
       "      <td>Vision</td>\n",
       "      <td>113.0</td>\n",
       "      <td>Second</td>\n",
       "    </tr>\n",
       "  </tbody>\n",
       "</table>\n",
       "</div>"
      ],
      "text/plain": [
       "                                               title video_content  duration  \\\n",
       "0  On the effect of visual refinement upon user f...     Prototype       3.5   \n",
       "1                             Refining Vision Videos        Vision     218.0   \n",
       "2                             Refining Vision Videos        Vision     215.0   \n",
       "3  Vision Meets Visualization: Are Animated Video...        Vision     112.0   \n",
       "4  Vision Meets Visualization: Are Animated Video...        Vision     113.0   \n",
       "\n",
       "  duration_unit  \n",
       "0        Minute  \n",
       "1        Second  \n",
       "2        Second  \n",
       "3        Second  \n",
       "4        Second  "
      ]
     },
     "execution_count": 10,
     "metadata": {},
     "output_type": "execute_result"
    }
   ],
   "source": [
    "query = \"\"\"\n",
    "SELECT ?title, ?video_content, ?duration, ?duration_unit\n",
    "  WHERE {\n",
    "    ?paper orkgp:P31 ?contribution.\n",
    "    ?contribution a orkgc:C23037.\n",
    "    ?contribution rdfs:label ?contribution_name.\n",
    "    ?paper rdfs:label ?title.\n",
    "    OPTIONAL{?contribution orkgp:P37544/orkgp:P45098 ?video.\n",
    "             ?video orkgp:P34137/rdfs:label ?video_content;\n",
    "                    orkgp:P23149/orkgp:P45073/orkgp:P45075 ?duration;\n",
    "                    orkgp:P23149/orkgp:P45073/orkgp:P45076/rdfs:label ?duration_unit.}\n",
    "        }\n",
    "        \"\"\"\n",
    "data = sparql_dataframe.get(ENDPOINT_URL, PREFIXES+query)\n",
    "data.head()"
   ]
  },
  {
   "cell_type": "markdown",
   "id": "df840f68-b6a0-4119-abcb-bc1003f10290",
   "metadata": {},
   "source": [
    "<h3> Generate Graph <h3>"
   ]
  },
  {
   "cell_type": "code",
   "execution_count": 11,
   "id": "eb72825f-1d19-453c-bc5f-e16ae9c8a629",
   "metadata": {},
   "outputs": [
    {
     "data": {
      "text/plain": [
       "<AxesSubplot:xlabel='duration in mins', ylabel='types of video content'>"
      ]
     },
     "execution_count": 11,
     "metadata": {},
     "output_type": "execute_result"
    },
    {
     "data": {
      "image/png": "[encoded data removed]",
      "text/plain": [
       "<Figure size 1080x360 with 1 Axes>"
      ]
     },
     "metadata": {
      "needs_background": "light"
     },
     "output_type": "display_data"
    }
   ],
   "source": [
    "duration_data = []\n",
    "for index, row in data.iterrows():\n",
    "    duration = 0.0\n",
    "    if not (pd.isnull(row['duration_unit']) and pd.isnull(row['video_content']) and pd.isnull(row['duration_unit'])):\n",
    "        if row['duration_unit'] == 'Second':\n",
    "            duration = float(\"{:.2f}\".format(row['duration']/60))\n",
    "        elif row['duration_unit'] == 'Minute':\n",
    "            duration = float(row['duration'])\n",
    "        elif row['duration_unit'] == 'Hour':\n",
    "            duration = float(\"{:.2f}\".format(row['duration']*60))\n",
    "        elif row['duration_unit'] == 'Day':\n",
    "            duration = float(\"{:.2f}\".format(row['duration']*60*24))\n",
    "        duration_data.append({'video_content':row['video_content'], 'duration':duration})\n",
    "    \n",
    "sorted_data = sorted(duration_data, key=lambda d: d['duration'])\n",
    "\n",
    "df = pd.DataFrame(sorted_data)\n",
    "df = df.astype(str)\n",
    "df.plot(kind='scatter',\n",
    "         x='duration',\n",
    "         y='video_content',\n",
    "         xlabel='duration in mins',\n",
    "         ylabel='types of video content',\n",
    "         figsize=(15,5))"
   ]
  },
  {
   "cell_type": "markdown",
   "id": "17dbf04c-b083-410e-87e2-9dd7ca96001c",
   "metadata": {},
   "source": [
    "<h3> All types of interactions in videos <h3>"
   ]
  },
  {
   "cell_type": "code",
   "execution_count": 12,
   "id": "44ada4d2-f117-41fa-805e-82a25b89d444",
   "metadata": {},
   "outputs": [
    {
     "data": {
      "text/html": [
       "<div>\n",
       "<style scoped>\n",
       "    .dataframe tbody tr th:only-of-type {\n",
       "        vertical-align: middle;\n",
       "    }\n",
       "\n",
       "    .dataframe tbody tr th {\n",
       "        vertical-align: top;\n",
       "    }\n",
       "\n",
       "    .dataframe thead th {\n",
       "        text-align: right;\n",
       "    }\n",
       "</style>\n",
       "<table border=\"1\" class=\"dataframe\">\n",
       "  <thead>\n",
       "    <tr style=\"text-align: right;\">\n",
       "      <th></th>\n",
       "      <th>title</th>\n",
       "      <th>interaction</th>\n",
       "    </tr>\n",
       "  </thead>\n",
       "  <tbody>\n",
       "    <tr>\n",
       "      <th>0</th>\n",
       "      <td>Workshop videos for requirements communication</td>\n",
       "      <td>Tagging</td>\n",
       "    </tr>\n",
       "    <tr>\n",
       "      <th>1</th>\n",
       "      <td>Anforderungen klären mit Videoclips</td>\n",
       "      <td>Poll</td>\n",
       "    </tr>\n",
       "    <tr>\n",
       "      <th>2</th>\n",
       "      <td>Viewing Vision Videos Online: Opportunities fo...</td>\n",
       "      <td>Poll</td>\n",
       "    </tr>\n",
       "    <tr>\n",
       "      <th>3</th>\n",
       "      <td>Vision Video Making with Novices: A Research P...</td>\n",
       "      <td>NaN</td>\n",
       "    </tr>\n",
       "    <tr>\n",
       "      <th>4</th>\n",
       "      <td>Software Cinema-Video-based Requirements Engin...</td>\n",
       "      <td>NaN</td>\n",
       "    </tr>\n",
       "  </tbody>\n",
       "</table>\n",
       "</div>"
      ],
      "text/plain": [
       "                                               title interaction\n",
       "0     Workshop videos for requirements communication     Tagging\n",
       "1                Anforderungen klären mit Videoclips        Poll\n",
       "2  Viewing Vision Videos Online: Opportunities fo...        Poll\n",
       "3  Vision Video Making with Novices: A Research P...         NaN\n",
       "4  Software Cinema-Video-based Requirements Engin...         NaN"
      ]
     },
     "execution_count": 12,
     "metadata": {},
     "output_type": "execute_result"
    }
   ],
   "source": [
    "query = \"\"\"\n",
    "        SELECT ?title, ?interaction\n",
    "          WHERE {\n",
    "            ?paper orkgp:P31 ?contribution.\n",
    "            ?contribution a orkgc:C23037.\n",
    "            ?contribution rdfs:label ?contribution_name.\n",
    "            ?paper rdfs:label ?title.\n",
    "            OPTIONAL{?contribution orkgp:P37544/orkgp:P45098 ?video.\n",
    "                     ?video orkgp:P45100/rdfs:label ?interaction.}\n",
    "                }\n",
    "        \"\"\"\n",
    "data = sparql_dataframe.get(ENDPOINT_URL, PREFIXES+query)\n",
    "data.head()"
   ]
  },
  {
   "cell_type": "markdown",
   "id": "2bd1ae8f-f81a-405b-8820-ba2d338ebc8f",
   "metadata": {},
   "source": [
    "<h3> Generate graph <h3>"
   ]
  },
  {
   "cell_type": "code",
   "execution_count": 13,
   "id": "93a7cba2-9f99-4ece-b15c-cd09bc593421",
   "metadata": {},
   "outputs": [
    {
     "data": {
      "text/plain": [
       "<AxesSubplot:xlabel='interaction types', ylabel='number of occurrences'>"
      ]
     },
     "execution_count": 13,
     "metadata": {},
     "output_type": "execute_result"
    },
    {
     "data": {
      "image/png": "[encoded data removed]",
      "text/plain": [
       "<Figure size 432x288 with 1 Axes>"
      ]
     },
     "metadata": {
      "needs_background": "light"
     },
     "output_type": "display_data"
    }
   ],
   "source": [
    "data['interaction'].value_counts().plot(kind='bar', \n",
    "                                        color='green', \n",
    "                                        ylabel='number of occurrences', \n",
    "                                        xlabel='interaction types')"
   ]
  },
  {
   "cell_type": "markdown",
   "id": "6f163acf-2683-42a9-9621-9d2825e7e14e",
   "metadata": {},
   "source": [
    "<h3>Occurencies of Videos as a Problems in Phases of RE<h3>"
   ]
  },
  {
   "cell_type": "code",
   "execution_count": 14,
   "id": "87d4b3f7-2b38-4989-9c6b-2939f231ceb3",
   "metadata": {},
   "outputs": [
    {
     "data": {
      "text/html": [
       "<div>\n",
       "<style scoped>\n",
       "    .dataframe tbody tr th:only-of-type {\n",
       "        vertical-align: middle;\n",
       "    }\n",
       "\n",
       "    .dataframe tbody tr th {\n",
       "        vertical-align: top;\n",
       "    }\n",
       "\n",
       "    .dataframe thead th {\n",
       "        text-align: right;\n",
       "    }\n",
       "</style>\n",
       "<table border=\"1\" class=\"dataframe\">\n",
       "  <thead>\n",
       "    <tr style=\"text-align: right;\">\n",
       "      <th></th>\n",
       "      <th>title</th>\n",
       "      <th>problem</th>\n",
       "      <th>solution</th>\n",
       "      <th>re_phase</th>\n",
       "    </tr>\n",
       "  </thead>\n",
       "  <tbody>\n",
       "    <tr>\n",
       "      <th>0</th>\n",
       "      <td>Viewing Vision Videos Online: Opportunities fo...</td>\n",
       "      <td>True</td>\n",
       "      <td>NaN</td>\n",
       "      <td>Elicitation</td>\n",
       "    </tr>\n",
       "    <tr>\n",
       "      <th>1</th>\n",
       "      <td>Viewing Vision Videos Online: Opportunities fo...</td>\n",
       "      <td>True</td>\n",
       "      <td>NaN</td>\n",
       "      <td>Validation</td>\n",
       "    </tr>\n",
       "    <tr>\n",
       "      <th>2</th>\n",
       "      <td>Video as a By-Product of Digital Prototyping: ...</td>\n",
       "      <td>False</td>\n",
       "      <td>NaN</td>\n",
       "      <td>Elicitation</td>\n",
       "    </tr>\n",
       "    <tr>\n",
       "      <th>3</th>\n",
       "      <td>Video as a By-Product of Digital Prototyping: ...</td>\n",
       "      <td>False</td>\n",
       "      <td>NaN</td>\n",
       "      <td>Documentation</td>\n",
       "    </tr>\n",
       "    <tr>\n",
       "      <th>4</th>\n",
       "      <td>Video as a By-Product of Digital Prototyping: ...</td>\n",
       "      <td>False</td>\n",
       "      <td>NaN</td>\n",
       "      <td>Validation</td>\n",
       "    </tr>\n",
       "  </tbody>\n",
       "</table>\n",
       "</div>"
      ],
      "text/plain": [
       "                                               title problem solution  \\\n",
       "0  Viewing Vision Videos Online: Opportunities fo...    True      NaN   \n",
       "1  Viewing Vision Videos Online: Opportunities fo...    True      NaN   \n",
       "2  Video as a By-Product of Digital Prototyping: ...   False      NaN   \n",
       "3  Video as a By-Product of Digital Prototyping: ...   False      NaN   \n",
       "4  Video as a By-Product of Digital Prototyping: ...   False      NaN   \n",
       "\n",
       "        re_phase  \n",
       "0    Elicitation  \n",
       "1     Validation  \n",
       "2    Elicitation  \n",
       "3  Documentation  \n",
       "4     Validation  "
      ]
     },
     "execution_count": 14,
     "metadata": {},
     "output_type": "execute_result"
    }
   ],
   "source": [
    "query = \"\"\"\n",
    "        SELECT ?title, ?problem, ?solution, ?re_phase\n",
    "          WHERE {\n",
    "            {\n",
    "              ?paper orkgp:P31 ?contribution.\n",
    "              ?contribution a orkgc:C23037.\n",
    "              ?contribution rdfs:label ?contribution_name.\n",
    "              ?paper rdfs:label ?title.\n",
    "              ?contribution orkgp:P37544/orkgp:P45098 ?video.\n",
    "              ?contribution orkgp:P37544/orkgp:P15340 ?context.\n",
    "              ?context orkgp:P41611/rdfs:label ?re_phase.\n",
    "              ?video orkgp:P11 ?problem.}\n",
    "            UNION\n",
    "            {\n",
    "              ?paper orkgp:P31 ?contribution.\n",
    "              ?contribution a orkgc:C23037.\n",
    "              ?contribution rdfs:label ?contribution_name.\n",
    "              ?paper rdfs:label ?title.\n",
    "              ?contribution orkgp:P37544/orkgp:P45098 ?video.\n",
    "              ?contribution orkgp:P37544/orkgp:P15340 ?context.\n",
    "              ?context orkgp:P41611/rdfs:label ?re_phase.\n",
    "              ?video orkgp:P12 ?solution.}\n",
    "            }\n",
    "        \"\"\"\n",
    "data = sparql_dataframe.get(ENDPOINT_URL, PREFIXES+query)\n",
    "data.head()"
   ]
  },
  {
   "cell_type": "code",
   "execution_count": 15,
   "id": "ec33d6dc-3ef1-4ad9-854c-5428b51517c9",
   "metadata": {},
   "outputs": [
    {
     "data": {
      "text/plain": [
       "<AxesSubplot:xlabel='Phases of reqirements Engineering', ylabel='Number of Videos as a \"Problem\"'>"
      ]
     },
     "execution_count": 15,
     "metadata": {},
     "output_type": "execute_result"
    },
    {
     "data": {
      "image/png": "[encoded data removed]",
      "text/plain": [
       "<Figure size 432x288 with 1 Axes>"
      ]
     },
     "metadata": {
      "needs_background": "light"
     },
     "output_type": "display_data"
    }
   ],
   "source": [
    "context_data_problem = []\n",
    "context_data_solution = []\n",
    "for index, row in data.iterrows():\n",
    "    re_phase = row['re_phase']\n",
    "    paper_title = row['title']\n",
    "    if not pd.isnull(row['problem']) and row['problem'] == True:\n",
    "        context_data_problem.append({'re_phase':row['re_phase'],'problem':row['problem']})\n",
    "    if not pd.isnull(row['solution']) and row['solution'] == True:\n",
    "        context_data_solution.append({'re_phase':row['re_phase'],'problem':row['solution']})\n",
    "\n",
    "df = pd.DataFrame(context_data_problem)\n",
    "df['re_phase'].value_counts().plot(kind='bar',\n",
    "                                   color='red',\n",
    "                                   xlabel='Phases of reqirements Engineering',\n",
    "                                   ylabel='Number of Videos as a \"Problem\"')\n"
   ]
  },
  {
   "cell_type": "code",
   "execution_count": 16,
   "id": "377ca85c-3b3b-4913-b205-0c309f6c6730",
   "metadata": {},
   "outputs": [
    {
     "data": {
      "text/plain": [
       "([<matplotlib.patches.Wedge at 0x11ec523a0>,\n",
       "  <matplotlib.patches.Wedge at 0x11ec52ac0>,\n",
       "  <matplotlib.patches.Wedge at 0x11ec60220>,\n",
       "  <matplotlib.patches.Wedge at 0x11ec60940>,\n",
       "  <matplotlib.patches.Wedge at 0x11ec6c0a0>],\n",
       " [Text(-0.11910545704186339, 2.1967735181631376, 'Elicitation'),\n",
       "  Text(-0.8143041660886828, -2.043748694211354, 'Validation'),\n",
       "  Text(1.7514046231230982, -1.3313834331638048, 'Verification'),\n",
       "  Text(2.0848369116832552, -0.7024635589715862, 'Documentation'),\n",
       "  Text(2.1871034835653416, -0.23786204442144407, 'Negotiation')],\n",
       " [Text(-0.06496661293192547, 1.1982401008162569, '15'),\n",
       "  Text(-0.44416590877564516, -1.114772015024375, '10'),\n",
       "  Text(0.9553116126125989, -0.7262091453620753, '2'),\n",
       "  Text(1.1371837700090481, -0.3831619412572288, '1'),\n",
       "  Text(1.192965536490186, -0.12974293332078765, '1')])"
      ]
     },
     "execution_count": 16,
     "metadata": {},
     "output_type": "execute_result"
    },
    {
     "data": {
      "image/png": "[encoded data removed]",
      "text/plain": [
       "<Figure size 432x288 with 1 Axes>"
      ]
     },
     "metadata": {},
     "output_type": "display_data"
    }
   ],
   "source": [
    "df = pd.DataFrame(context_data_problem)\n",
    "plt_labels = df['re_phase'].value_counts().index.tolist()\n",
    "plt.pie(df['re_phase'].value_counts(),\n",
    "        labels = plt_labels,\n",
    "        autopct=lambda x: '{:.0f}'.format(x * len(context_data_problem) / 100), \n",
    "        radius=2)"
   ]
  },
  {
   "cell_type": "markdown",
   "id": "cf9d8f77-bdfa-4c5f-adac-0f571f766c6e",
   "metadata": {},
   "source": [
    "<h3>Occurencies of Videos as a Solutions in Phases of RE<h3>"
   ]
  },
  {
   "cell_type": "code",
   "execution_count": 17,
   "id": "be390a32-a805-462e-a61c-80b7757bee1b",
   "metadata": {},
   "outputs": [
    {
     "data": {
      "text/plain": [
       "<AxesSubplot:xlabel='Phases of reqirements Engineering', ylabel='Number of Videos as a \"Solution\"'>"
      ]
     },
     "execution_count": 17,
     "metadata": {},
     "output_type": "execute_result"
    },
    {
     "data": {
      "image/png": "[encoded data removed]",
      "text/plain": [
       "<Figure size 432x288 with 1 Axes>"
      ]
     },
     "metadata": {
      "needs_background": "light"
     },
     "output_type": "display_data"
    }
   ],
   "source": [
    "df = pd.DataFrame(context_data_solution)\n",
    "df['re_phase'].value_counts().plot(kind='bar', \n",
    "                                         xlabel='Phases of reqirements Engineering', \n",
    "                                         ylabel='Number of Videos as a \"Solution\"')"
   ]
  },
  {
   "cell_type": "code",
   "execution_count": 18,
   "id": "ed27f20e-bf21-447e-ab12-ea48f3e6e389",
   "metadata": {},
   "outputs": [
    {
     "data": {
      "text/plain": [
       "([<matplotlib.patches.Wedge at 0x11ed16ac0>,\n",
       "  <matplotlib.patches.Wedge at 0x11ed24220>,\n",
       "  <matplotlib.patches.Wedge at 0x11ed24940>,\n",
       "  <matplotlib.patches.Wedge at 0x11ed310a0>,\n",
       "  <matplotlib.patches.Wedge at 0x11ed317f0>],\n",
       " [Text(0.4400565004334301, 2.155539439775177, 'Elicitation'),\n",
       "  Text(-1.5239935053494054, -1.5866454536703631, 'Validation'),\n",
       "  Text(1.52399369103998, -1.5866452753121407, 'Documentation'),\n",
       "  Text(2.086780226430415, -0.6966694241740682, 'Verification'),\n",
       "  Text(2.192866092211935, -0.17702627383289268, 'Negotiation')],\n",
       " [Text(0.24003081841823454, 1.1757487853319144, '17'),\n",
       "  Text(-0.8312691847360392, -0.865442974729289, '15'),\n",
       "  Text(0.8312692860218072, -0.8654428774429858, '4'),\n",
       "  Text(1.1382437598711352, -0.3800015040949462, '2'),\n",
       "  Text(1.1961087775701462, -0.09655978572703237, '1')])"
      ]
     },
     "execution_count": 18,
     "metadata": {},
     "output_type": "execute_result"
    },
    {
     "data": {
      "image/png": "[encoded data removed]",
      "text/plain": [
       "<Figure size 432x288 with 1 Axes>"
      ]
     },
     "metadata": {},
     "output_type": "display_data"
    }
   ],
   "source": [
    "df = pd.DataFrame(context_data_solution)\n",
    "plt_labels = df['re_phase'].value_counts().index.tolist()\n",
    "plt.pie(df['re_phase'].value_counts(), \n",
    "                   labels = plt_labels,\n",
    "                   autopct=lambda x: '{:.0f}'.format(x * len(context_data_solution) / 100), \n",
    "                   radius=2)"
   ]
  },
  {
   "cell_type": "markdown",
   "id": "06d77f59-23e8-4ab6-a7aa-920b5ce4c751",
   "metadata": {},
   "source": [
    "<h3> Producers of the Videos<h3>"
   ]
  },
  {
   "cell_type": "code",
   "execution_count": 19,
   "id": "c4af4995-dd5a-45b4-8f7f-194bdb5292e8",
   "metadata": {},
   "outputs": [
    {
     "data": {
      "text/html": [
       "<div>\n",
       "<style scoped>\n",
       "    .dataframe tbody tr th:only-of-type {\n",
       "        vertical-align: middle;\n",
       "    }\n",
       "\n",
       "    .dataframe tbody tr th {\n",
       "        vertical-align: top;\n",
       "    }\n",
       "\n",
       "    .dataframe thead th {\n",
       "        text-align: right;\n",
       "    }\n",
       "</style>\n",
       "<table border=\"1\" class=\"dataframe\">\n",
       "  <thead>\n",
       "    <tr style=\"text-align: right;\">\n",
       "      <th></th>\n",
       "      <th>title</th>\n",
       "      <th>producer</th>\n",
       "    </tr>\n",
       "  </thead>\n",
       "  <tbody>\n",
       "    <tr>\n",
       "      <th>0</th>\n",
       "      <td>Supporting Requirements Elicitation by Tool-Su...</td>\n",
       "      <td>Requirements Engineer</td>\n",
       "    </tr>\n",
       "    <tr>\n",
       "      <th>1</th>\n",
       "      <td>Software Cinema-Video-based Requirements Engin...</td>\n",
       "      <td>Video expert</td>\n",
       "    </tr>\n",
       "    <tr>\n",
       "      <th>2</th>\n",
       "      <td>Software Cinema-Video-based Requirements Engin...</td>\n",
       "      <td>Requirements Engineer</td>\n",
       "    </tr>\n",
       "    <tr>\n",
       "      <th>3</th>\n",
       "      <td>Software Cinema-Video-based Requirements Engin...</td>\n",
       "      <td>Customer</td>\n",
       "    </tr>\n",
       "    <tr>\n",
       "      <th>4</th>\n",
       "      <td>Vision Video Making with Novices: A Research P...</td>\n",
       "      <td>Novices</td>\n",
       "    </tr>\n",
       "  </tbody>\n",
       "</table>\n",
       "</div>"
      ],
      "text/plain": [
       "                                               title               producer\n",
       "0  Supporting Requirements Elicitation by Tool-Su...  Requirements Engineer\n",
       "1  Software Cinema-Video-based Requirements Engin...           Video expert\n",
       "2  Software Cinema-Video-based Requirements Engin...  Requirements Engineer\n",
       "3  Software Cinema-Video-based Requirements Engin...               Customer\n",
       "4  Vision Video Making with Novices: A Research P...                Novices"
      ]
     },
     "execution_count": 19,
     "metadata": {},
     "output_type": "execute_result"
    }
   ],
   "source": [
    "query = \"\"\"\n",
    "        SELECT ?title, ?producer\n",
    "        WHERE {\n",
    "              ?paper orkgp:P31 ?contribution.\n",
    "              ?contribution a orkgc:C23037.\n",
    "              ?contribution rdfs:label ?contribution_name.\n",
    "              ?paper rdfs:label ?title.\n",
    "              ?contribution orkgp:P45119 ?production.\n",
    "              ?production orkgp:P45077/rdfs:label ?producer.\n",
    "             }\n",
    "        \"\"\"\n",
    "data = sparql_dataframe.get(ENDPOINT_URL, PREFIXES+query)\n",
    "data.head()"
   ]
  },
  {
   "cell_type": "code",
   "execution_count": 20,
   "id": "bea09b9e-3f14-4121-b906-a4bf70fb89c9",
   "metadata": {},
   "outputs": [
    {
     "data": {
      "text/plain": [
       "<AxesSubplot:xlabel='Producer', ylabel='Number of Occurrences'>"
      ]
     },
     "execution_count": 20,
     "metadata": {},
     "output_type": "execute_result"
    },
    {
     "data": {
      "image/png": "[encoded data removed]",
      "text/plain": [
       "<Figure size 432x288 with 1 Axes>"
      ]
     },
     "metadata": {
      "needs_background": "light"
     },
     "output_type": "display_data"
    }
   ],
   "source": [
    "data['producer'].value_counts().plot(kind='bar',\n",
    "                                     xlabel='Producer',\n",
    "                                     ylabel='Number of Occurrences',\n",
    "                                     color='violet')"
   ]
  },
  {
   "cell_type": "markdown",
   "id": "702e4f72-ac07-4469-8ae2-392e47008a98",
   "metadata": {},
   "source": [
    "<h3> Type of Videos with \"High-Cost\" Production<h3>"
   ]
  },
  {
   "cell_type": "code",
   "execution_count": 31,
   "id": "f4b8bcbf-e872-4392-8e8e-8a283241ce6f",
   "metadata": {},
   "outputs": [
    {
     "data": {
      "text/html": [
       "<div>\n",
       "<style scoped>\n",
       "    .dataframe tbody tr th:only-of-type {\n",
       "        vertical-align: middle;\n",
       "    }\n",
       "\n",
       "    .dataframe tbody tr th {\n",
       "        vertical-align: top;\n",
       "    }\n",
       "\n",
       "    .dataframe thead th {\n",
       "        text-align: right;\n",
       "    }\n",
       "</style>\n",
       "<table border=\"1\" class=\"dataframe\">\n",
       "  <thead>\n",
       "    <tr style=\"text-align: right;\">\n",
       "      <th></th>\n",
       "      <th>title</th>\n",
       "      <th>high_cost</th>\n",
       "      <th>video_type</th>\n",
       "    </tr>\n",
       "  </thead>\n",
       "  <tbody>\n",
       "    <tr>\n",
       "      <th>0</th>\n",
       "      <td>Videos vs. Use Cases: Can Videos Capture More ...</td>\n",
       "      <td>True</td>\n",
       "      <td>Ad-hoc video with respect to use cases</td>\n",
       "    </tr>\n",
       "    <tr>\n",
       "      <th>1</th>\n",
       "      <td>Refining Vision Videos</td>\n",
       "      <td>True</td>\n",
       "      <td>Vision video</td>\n",
       "    </tr>\n",
       "    <tr>\n",
       "      <th>2</th>\n",
       "      <td>Refining Vision Videos</td>\n",
       "      <td>True</td>\n",
       "      <td>Vision video</td>\n",
       "    </tr>\n",
       "    <tr>\n",
       "      <th>3</th>\n",
       "      <td>User model and system model: the yin and yang ...</td>\n",
       "      <td>True</td>\n",
       "      <td>record</td>\n",
       "    </tr>\n",
       "    <tr>\n",
       "      <th>4</th>\n",
       "      <td>User model and system model: the yin and yang ...</td>\n",
       "      <td>True</td>\n",
       "      <td>Scenario of pixels</td>\n",
       "    </tr>\n",
       "  </tbody>\n",
       "</table>\n",
       "</div>"
      ],
      "text/plain": [
       "                                               title  high_cost  \\\n",
       "0  Videos vs. Use Cases: Can Videos Capture More ...       True   \n",
       "1                             Refining Vision Videos       True   \n",
       "2                             Refining Vision Videos       True   \n",
       "3  User model and system model: the yin and yang ...       True   \n",
       "4  User model and system model: the yin and yang ...       True   \n",
       "\n",
       "                               video_type  \n",
       "0  Ad-hoc video with respect to use cases  \n",
       "1                            Vision video  \n",
       "2                            Vision video  \n",
       "3                                  record  \n",
       "4                      Scenario of pixels  "
      ]
     },
     "execution_count": 31,
     "metadata": {},
     "output_type": "execute_result"
    }
   ],
   "source": [
    "query = \"\"\"\n",
    "        SELECT ?title, ?high_cost, ?video_type\n",
    "        WHERE {\n",
    "              ?paper orkgp:P31 ?contribution.\n",
    "              ?contribution a orkgc:C23037.\n",
    "              ?contribution rdfs:label ?contribution_name.\n",
    "              ?paper rdfs:label ?title.\n",
    "              ?contribution orkgp:P45119 ?production.\n",
    "              ?production orkgp:P67104 ?high_cost.\n",
    "              ?production orkgp:P45098/orkgp:P3/rdfs:label ?video_type.\n",
    "             }\n",
    "        \"\"\"\n",
    "data = sparql_dataframe.get(ENDPOINT_URL, PREFIXES+query)\n",
    "data.head()"
   ]
  },
  {
   "cell_type": "code",
   "execution_count": 36,
   "id": "418a02c4-8a5d-4e73-8e9a-9ac7acfc9ef7",
   "metadata": {},
   "outputs": [
    {
     "data": {
      "text/plain": [
       "<AxesSubplot:ylabel='number of occurrences'>"
      ]
     },
     "execution_count": 36,
     "metadata": {},
     "output_type": "execute_result"
    },
    {
     "data": {
      "image/png": "[encoded data removed]",
      "text/plain": [
       "<Figure size 432x288 with 1 Axes>"
      ]
     },
     "metadata": {
      "needs_background": "light"
     },
     "output_type": "display_data"
    }
   ],
   "source": [
    "data_list = []\n",
    "for index, row in data.iterrows():\n",
    "    if not pd.isnull(row['high_cost']) and row['high_cost'] == True:\n",
    "        data_list.append(row['video_type'])\n",
    "        \n",
    "pd.Series(data_list).value_counts().plot(kind='bar',\n",
    "                                         color='green',\n",
    "                                         label='Type of Video', \n",
    "                                         ylabel='number of occurrences')"
   ]
  },
  {
   "cell_type": "markdown",
   "id": "915e299b-5c87-4943-b87c-6e3d8f6c3116",
   "metadata": {},
   "source": [
    "<h3> Most popular type of \"High-Fidelity\" Videos <h3>"
   ]
  },
  {
   "cell_type": "code",
   "execution_count": 39,
   "id": "62aa7261-566d-478d-adb9-80187c1daa20",
   "metadata": {},
   "outputs": [
    {
     "data": {
      "text/html": [
       "<div>\n",
       "<style scoped>\n",
       "    .dataframe tbody tr th:only-of-type {\n",
       "        vertical-align: middle;\n",
       "    }\n",
       "\n",
       "    .dataframe tbody tr th {\n",
       "        vertical-align: top;\n",
       "    }\n",
       "\n",
       "    .dataframe thead th {\n",
       "        text-align: right;\n",
       "    }\n",
       "</style>\n",
       "<table border=\"1\" class=\"dataframe\">\n",
       "  <thead>\n",
       "    <tr style=\"text-align: right;\">\n",
       "      <th></th>\n",
       "      <th>title</th>\n",
       "      <th>video_type</th>\n",
       "      <th>high_fidelity</th>\n",
       "    </tr>\n",
       "  </thead>\n",
       "  <tbody>\n",
       "    <tr>\n",
       "      <th>0</th>\n",
       "      <td>On the effect of visual refinement upon user f...</td>\n",
       "      <td>Demonstration Video</td>\n",
       "      <td>True</td>\n",
       "    </tr>\n",
       "    <tr>\n",
       "      <th>1</th>\n",
       "      <td>On the effect of visual refinement upon user f...</td>\n",
       "      <td>Demonstration Video</td>\n",
       "      <td>False</td>\n",
       "    </tr>\n",
       "    <tr>\n",
       "      <th>2</th>\n",
       "      <td>Speculative Requirements: Design Fiction and RE</td>\n",
       "      <td>Fiction film</td>\n",
       "      <td>True</td>\n",
       "    </tr>\n",
       "    <tr>\n",
       "      <th>3</th>\n",
       "      <td>Investigating User Experiences Through Animati...</td>\n",
       "      <td>Animation-based sketch</td>\n",
       "      <td>True</td>\n",
       "    </tr>\n",
       "  </tbody>\n",
       "</table>\n",
       "</div>"
      ],
      "text/plain": [
       "                                               title              video_type  \\\n",
       "0  On the effect of visual refinement upon user f...     Demonstration Video   \n",
       "1  On the effect of visual refinement upon user f...     Demonstration Video   \n",
       "2    Speculative Requirements: Design Fiction and RE            Fiction film   \n",
       "3  Investigating User Experiences Through Animati...  Animation-based sketch   \n",
       "\n",
       "   high_fidelity  \n",
       "0           True  \n",
       "1          False  \n",
       "2           True  \n",
       "3           True  "
      ]
     },
     "execution_count": 39,
     "metadata": {},
     "output_type": "execute_result"
    }
   ],
   "source": [
    "query = \"\"\"\n",
    "        SELECT ?title, ?video_type, ?high_fidelity\n",
    "          WHERE {\n",
    "            ?paper orkgp:P31 ?contribution.\n",
    "            ?contribution a orkgc:C23037.\n",
    "            ?contribution rdfs:label ?contribution_name.\n",
    "            ?paper rdfs:label ?title.\n",
    "            ?contribution orkgp:P37544/orkgp:P45098 ?video.\n",
    "            ?video orkgp:P3/rdfs:label ?video_type.\n",
    "            ?video orkgp:P68023 ?high_fidelity.}\n",
    "        \"\"\"\n",
    "data = sparql_dataframe.get(ENDPOINT_URL, PREFIXES+query)\n",
    "data.head()"
   ]
  },
  {
   "cell_type": "code",
   "execution_count": 40,
   "id": "aa8416d7-a84d-4714-bf80-c36cfab7fcda",
   "metadata": {},
   "outputs": [
    {
     "data": {
      "text/plain": [
       "<AxesSubplot:ylabel='number of occurrences'>"
      ]
     },
     "execution_count": 40,
     "metadata": {},
     "output_type": "execute_result"
    },
    {
     "data": {
      "image/png": "[encoded data removed]",
      "text/plain": [
       "<Figure size 432x288 with 1 Axes>"
      ]
     },
     "metadata": {
      "needs_background": "light"
     },
     "output_type": "display_data"
    }
   ],
   "source": [
    "data_list = []\n",
    "for index, row in data.iterrows():\n",
    "    if not pd.isnull(row['high_fidelity']) and row['high_fidelity'] == True:\n",
    "        data_list.append(row['video_type'])\n",
    "        \n",
    "pd.Series(data_list).value_counts().plot(kind='bar',\n",
    "                                         color='red',\n",
    "                                         label='Type of Video', \n",
    "                                         ylabel='number of occurrences')"
   ]
  },
  {
   "cell_type": "markdown",
   "id": "391ea912-00dd-4078-8104-0f8ae81195d3",
   "metadata": {},
   "source": [
    "<h3> Most popular type of \"Low-Fidelity\" Videos <h3>"
   ]
  },
  {
   "cell_type": "code",
   "execution_count": 41,
   "id": "82cc8b20-e578-4ef6-ae65-1c63a9e05d27",
   "metadata": {},
   "outputs": [
    {
     "data": {
      "text/html": [
       "<div>\n",
       "<style scoped>\n",
       "    .dataframe tbody tr th:only-of-type {\n",
       "        vertical-align: middle;\n",
       "    }\n",
       "\n",
       "    .dataframe tbody tr th {\n",
       "        vertical-align: top;\n",
       "    }\n",
       "\n",
       "    .dataframe thead th {\n",
       "        text-align: right;\n",
       "    }\n",
       "</style>\n",
       "<table border=\"1\" class=\"dataframe\">\n",
       "  <thead>\n",
       "    <tr style=\"text-align: right;\">\n",
       "      <th></th>\n",
       "      <th>title</th>\n",
       "      <th>video_type</th>\n",
       "      <th>low_fidelity</th>\n",
       "    </tr>\n",
       "  </thead>\n",
       "  <tbody>\n",
       "    <tr>\n",
       "      <th>0</th>\n",
       "      <td>Videos vs. Use Cases: Can Videos Capture More ...</td>\n",
       "      <td>Ad-hoc video with respect to use cases</td>\n",
       "      <td>True</td>\n",
       "    </tr>\n",
       "    <tr>\n",
       "      <th>1</th>\n",
       "      <td>On the effect of visual refinement upon user f...</td>\n",
       "      <td>Demonstration Video</td>\n",
       "      <td>False</td>\n",
       "    </tr>\n",
       "    <tr>\n",
       "      <th>2</th>\n",
       "      <td>On the effect of visual refinement upon user f...</td>\n",
       "      <td>Demonstration Video</td>\n",
       "      <td>True</td>\n",
       "    </tr>\n",
       "    <tr>\n",
       "      <th>3</th>\n",
       "      <td>Workshop videos for requirements communication</td>\n",
       "      <td>Workshop video</td>\n",
       "      <td>True</td>\n",
       "    </tr>\n",
       "    <tr>\n",
       "      <th>4</th>\n",
       "      <td>Workshop videos for requirements communication</td>\n",
       "      <td>Vision video</td>\n",
       "      <td>True</td>\n",
       "    </tr>\n",
       "  </tbody>\n",
       "</table>\n",
       "</div>"
      ],
      "text/plain": [
       "                                               title  \\\n",
       "0  Videos vs. Use Cases: Can Videos Capture More ...   \n",
       "1  On the effect of visual refinement upon user f...   \n",
       "2  On the effect of visual refinement upon user f...   \n",
       "3     Workshop videos for requirements communication   \n",
       "4     Workshop videos for requirements communication   \n",
       "\n",
       "                               video_type  low_fidelity  \n",
       "0  Ad-hoc video with respect to use cases          True  \n",
       "1                     Demonstration Video         False  \n",
       "2                     Demonstration Video          True  \n",
       "3                          Workshop video          True  \n",
       "4                            Vision video          True  "
      ]
     },
     "execution_count": 41,
     "metadata": {},
     "output_type": "execute_result"
    }
   ],
   "source": [
    "query = \"\"\"\n",
    "        SELECT ?title, ?video_type, ?low_fidelity\n",
    "          WHERE {\n",
    "            ?paper orkgp:P31 ?contribution.\n",
    "            ?contribution a orkgc:C23037.\n",
    "            ?contribution rdfs:label ?contribution_name.\n",
    "            ?paper rdfs:label ?title.\n",
    "            ?contribution orkgp:P37544/orkgp:P45098 ?video.\n",
    "            ?video orkgp:P3/rdfs:label ?video_type.\n",
    "            ?video orkgp:P68024 ?low_fidelity.}\n",
    "        \"\"\"\n",
    "data = sparql_dataframe.get(ENDPOINT_URL, PREFIXES+query)\n",
    "data.head()"
   ]
  },
  {
   "cell_type": "code",
   "execution_count": 43,
   "id": "f2bdf1db-933f-4d82-a8e6-e3e5bf4601e6",
   "metadata": {},
   "outputs": [
    {
     "data": {
      "text/plain": [
       "<AxesSubplot:ylabel='number of occurrences'>"
      ]
     },
     "execution_count": 43,
     "metadata": {},
     "output_type": "execute_result"
    },
    {
     "data": {
      "image/png": "[encoded data removed]",
      "text/plain": [
       "<Figure size 432x288 with 1 Axes>"
      ]
     },
     "metadata": {
      "needs_background": "light"
     },
     "output_type": "display_data"
    }
   ],
   "source": [
    "data_list = []\n",
    "for index, row in data.iterrows():\n",
    "    if not pd.isnull(row['low_fidelity']) and row['low_fidelity'] == True:\n",
    "        data_list.append(row['video_type'])\n",
    "        \n",
    "pd.Series(data_list).value_counts().plot(kind='bar',\n",
    "                                         color='blue',\n",
    "                                         label='Type of Video', \n",
    "                                         ylabel='number of occurrences')"
   ]
  },
  {
   "cell_type": "code",
   "execution_count": null,
   "id": "a164fb40-c336-4681-85a4-19bfd36f0b8d",
   "metadata": {},
   "outputs": [],
   "source": []
  }
 ],
 "metadata": {
  "kernelspec": {
   "display_name": "Python 3 (ipykernel)",
   "language": "python",
   "name": "python3"
  },
  "language_info": {
   "codemirror_mode": {
    "name": "ipython",
    "version": 3
   },
   "file_extension": ".py",
   "mimetype": "text/x-python",
   "name": "python",
   "nbconvert_exporter": "python",
   "pygments_lexer": "ipython3",
   "version": "3.9.13"
  }
 },
 "nbformat": 4,
 "nbformat_minor": 5
}
