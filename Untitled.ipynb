{
 "cells": [
  {
   "cell_type": "markdown",
   "id": "158ddfd3-3a06-43ba-8215-2c70271be6f9",
   "metadata": {},
   "source": [
    "<h2>Dependency of the guidelines from the year of publication.<h2>"
   ]
  },
  {
   "cell_type": "code",
   "execution_count": 147,
   "id": "a7a38ad8-f36c-461d-9bdf-39157a22c930",
   "metadata": {},
   "outputs": [
    {
     "data": {
      "text/html": [
       "<div>\n",
       "<style scoped>\n",
       "    .dataframe tbody tr th:only-of-type {\n",
       "        vertical-align: middle;\n",
       "    }\n",
       "\n",
       "    .dataframe tbody tr th {\n",
       "        vertical-align: top;\n",
       "    }\n",
       "\n",
       "    .dataframe thead th {\n",
       "        text-align: right;\n",
       "    }\n",
       "</style>\n",
       "<table border=\"1\" class=\"dataframe\">\n",
       "  <thead>\n",
       "    <tr style=\"text-align: right;\">\n",
       "      <th></th>\n",
       "      <th>contribution</th>\n",
       "      <th>title</th>\n",
       "      <th>year</th>\n",
       "      <th>guideline_name</th>\n",
       "    </tr>\n",
       "  </thead>\n",
       "  <tbody>\n",
       "    <tr>\n",
       "      <th>0</th>\n",
       "      <td>http://orkg.org/orkg/resource/R172612</td>\n",
       "      <td>Supporting Requirements Elicitation by Tool-Su...</td>\n",
       "      <td>2016</td>\n",
       "      <td>Principle</td>\n",
       "    </tr>\n",
       "    <tr>\n",
       "      <th>1</th>\n",
       "      <td>http://orkg.org/orkg/resource/R172546</td>\n",
       "      <td>Video as a By-Product of Digital Prototyping: ...</td>\n",
       "      <td>2017</td>\n",
       "      <td>Principle</td>\n",
       "    </tr>\n",
       "    <tr>\n",
       "      <th>2</th>\n",
       "      <td>http://orkg.org/orkg/resource/R172987</td>\n",
       "      <td>Vision Video Making with Novices: A Research P...</td>\n",
       "      <td>2022</td>\n",
       "      <td>Guideline</td>\n",
       "    </tr>\n",
       "    <tr>\n",
       "      <th>3</th>\n",
       "      <td>http://orkg.org/orkg/resource/R172935</td>\n",
       "      <td>Software Cinema-Video-based Requirements Engin...</td>\n",
       "      <td>2006</td>\n",
       "      <td>NaN</td>\n",
       "    </tr>\n",
       "    <tr>\n",
       "      <th>4</th>\n",
       "      <td>http://orkg.org/orkg/resource/R159616</td>\n",
       "      <td>Vision Meets Visualization: Are Animated Video...</td>\n",
       "      <td>2020</td>\n",
       "      <td>NaN</td>\n",
       "    </tr>\n",
       "  </tbody>\n",
       "</table>\n",
       "</div>"
      ],
      "text/plain": [
       "                            contribution  \\\n",
       "0  http://orkg.org/orkg/resource/R172612   \n",
       "1  http://orkg.org/orkg/resource/R172546   \n",
       "2  http://orkg.org/orkg/resource/R172987   \n",
       "3  http://orkg.org/orkg/resource/R172935   \n",
       "4  http://orkg.org/orkg/resource/R159616   \n",
       "\n",
       "                                               title  year guideline_name  \n",
       "0  Supporting Requirements Elicitation by Tool-Su...  2016      Principle  \n",
       "1  Video as a By-Product of Digital Prototyping: ...  2017      Principle  \n",
       "2  Vision Video Making with Novices: A Research P...  2022      Guideline  \n",
       "3  Software Cinema-Video-based Requirements Engin...  2006            NaN  \n",
       "4  Vision Meets Visualization: Are Animated Video...  2020            NaN  "
      ]
     },
     "execution_count": 147,
     "metadata": {},
     "output_type": "execute_result"
    }
   ],
   "source": [
    "import sparql_dataframe\n",
    "\n",
    "\n",
    "ENDPOINT_URL = \"https://www.orkg.org/orkg/triplestore\"\n",
    "\n",
    "PREFIXES =  \"\"\"\n",
    "            PREFIX orkgr: <http://orkg.org/orkg/resource/>\n",
    "            PREFIX orkgc: <http://orkg.org/orkg/class/>\n",
    "            PREFIX orkgp: <http://orkg.org/orkg/predicate/>\n",
    "            PREFIX rdfs: <http://www.w3.org/2000/01/rdf-schema#>\n",
    "            \"\"\"\n",
    "query = \"\"\"\n",
    "        SELECT ?contribution, ?title, ?year, ?guideline_name\n",
    "            WHERE {\n",
    "              ?paper orkgp:P31 ?contribution.\n",
    "              ?contribution a orkgc:C23037.\n",
    "              ?contribution rdfs:label ?contribution_name.\n",
    "              ?paper rdfs:label ?title.\n",
    "              OPTIONAL{?contribution orkgp:P45119 ?production.\n",
    "              ?production orkgp:P45079 ?guideline.\n",
    "              ?guideline orkgp:P3 ?type.\n",
    "              ?type rdfs:label ?guideline_name.}\n",
    "              OPTIONAL{?paper orkgp:P29 ?year_resrc.\n",
    "                       BIND(IF(isLiteral(?year_resrc), ?year_resrc, \"\") AS ?year1)\n",
    "                       OPTIONAL{?year_resrc rdfs:label ?year_label.}\n",
    "                       BIND(IF(BOUND(?year_label),?year_label, \"\") AS ?year2)\n",
    "                       BIND(IF(?year1 = \"\", ?year2, ?year1) AS ?year)\n",
    "                      }\n",
    "             }\n",
    "          \"\"\"\n",
    "data = sparql_dataframe.get(ENDPOINT_URL, PREFIXES+query)\n",
    "data.head()"
   ]
  },
  {
   "cell_type": "markdown",
   "id": "a4c14d00-e41d-4a53-a30f-f61c594e4157",
   "metadata": {},
   "source": [
    "<h3>Generate Grpah<h3>"
   ]
  },
  {
   "cell_type": "code",
   "execution_count": 148,
   "id": "569e64e3-dadf-45bd-a7e0-d51aa22a00d5",
   "metadata": {},
   "outputs": [
    {
     "data": {
      "text/plain": [
       "<AxesSubplot:xlabel='guideline_name', ylabel='year'>"
      ]
     },
     "execution_count": 148,
     "metadata": {},
     "output_type": "execute_result"
    },
    {
     "data": {
      "image/png": "[encoded data removed]",
      "text/plain": [
       "<Figure size 432x288 with 1 Axes>"
      ]
     },
     "metadata": {
      "needs_background": "light"
     },
     "output_type": "display_data"
    }
   ],
   "source": [
    "import matplotlib.pyplot as plt\n",
    "import pandas as pd\n",
    "\n",
    "data_guidelines = []\n",
    "for index, row in data.iterrows():\n",
    "    if not pd.isnull(row['guideline_name']):\n",
    "        data_guidelines.append([row['year'], row['guideline_name']])\n",
    "\n",
    "df=pd.DataFrame(data_guidelines,columns=['year','guideline_name'])\n",
    "df.plot(kind='scatter',\n",
    "         x='guideline_name',\n",
    "         y='year')"
   ]
  },
  {
   "cell_type": "markdown",
   "id": "7dacc238-1081-4c40-855c-659928c84913",
   "metadata": {},
   "source": [
    "<h3> All context (find most popular characteristic) <h3>"
   ]
  },
  {
   "cell_type": "code",
   "execution_count": 149,
   "id": "af59ec25-8414-4b21-98fc-c6c861e985b4",
   "metadata": {},
   "outputs": [],
   "source": [
    "query = \"\"\"\n",
    "SELECT ?title, ?re_phase, ?group, ?individual, ?virtual, ?async, ?sync\n",
    "  WHERE {\n",
    "    ?paper orkgp:P31 ?contribution.\n",
    "    ?contribution a orkgc:C23037.\n",
    "    ?contribution rdfs:label ?contribution_name.\n",
    "    ?paper rdfs:label ?title.\n",
    "    OPTIONAL{?contribution orkgp:P45119 ?production.\n",
    "             ?production orkgp:P45079 ?guideline.\n",
    "             ?guideline orkgp:P3 ?type.\n",
    "             ?type rdfs:label ?guideline_name.}\n",
    "    OPTIONAL{?contribution orkgp:P37544/orkgp:P15340 ?context.\n",
    "             ?context orkgp:P35126 ?group;\n",
    "                      orkgp:P41611/rdfs:label ?re_phase;\n",
    "                      orkgp:P45102 ?individual;\n",
    "                      orkgp:P45103 ?virtual;\n",
    "                      orkgp:P45104 ?physical;\n",
    "                      orkgp:P45105 ?async;\n",
    "                      orkgp:P45106 ?sync.}\n",
    "        }\"\"\""
   ]
  },
  {
   "cell_type": "code",
   "execution_count": 150,
   "id": "2b66631b-122f-48d2-96c2-35c035957047",
   "metadata": {},
   "outputs": [
    {
     "data": {
      "text/html": [
       "<div>\n",
       "<style scoped>\n",
       "    .dataframe tbody tr th:only-of-type {\n",
       "        vertical-align: middle;\n",
       "    }\n",
       "\n",
       "    .dataframe tbody tr th {\n",
       "        vertical-align: top;\n",
       "    }\n",
       "\n",
       "    .dataframe thead th {\n",
       "        text-align: right;\n",
       "    }\n",
       "</style>\n",
       "<table border=\"1\" class=\"dataframe\">\n",
       "  <thead>\n",
       "    <tr style=\"text-align: right;\">\n",
       "      <th></th>\n",
       "      <th>title</th>\n",
       "      <th>re_phase</th>\n",
       "      <th>group</th>\n",
       "      <th>individual</th>\n",
       "      <th>virtual</th>\n",
       "      <th>async</th>\n",
       "      <th>sync</th>\n",
       "    </tr>\n",
       "  </thead>\n",
       "  <tbody>\n",
       "    <tr>\n",
       "      <th>0</th>\n",
       "      <td>Supporting Requirements Elicitation by Tool-Su...</td>\n",
       "      <td>Elicitation</td>\n",
       "      <td>False</td>\n",
       "      <td>True</td>\n",
       "      <td>False</td>\n",
       "      <td>True</td>\n",
       "      <td>False</td>\n",
       "    </tr>\n",
       "    <tr>\n",
       "      <th>1</th>\n",
       "      <td>Supporting Requirements Elicitation by Tool-Su...</td>\n",
       "      <td>Documentation</td>\n",
       "      <td>False</td>\n",
       "      <td>True</td>\n",
       "      <td>False</td>\n",
       "      <td>True</td>\n",
       "      <td>False</td>\n",
       "    </tr>\n",
       "    <tr>\n",
       "      <th>2</th>\n",
       "      <td>Video as a By-Product of Digital Prototyping: ...</td>\n",
       "      <td>Elicitation</td>\n",
       "      <td>False</td>\n",
       "      <td>True</td>\n",
       "      <td>False</td>\n",
       "      <td>True</td>\n",
       "      <td>False</td>\n",
       "    </tr>\n",
       "    <tr>\n",
       "      <th>3</th>\n",
       "      <td>Video as a By-Product of Digital Prototyping: ...</td>\n",
       "      <td>Validation</td>\n",
       "      <td>False</td>\n",
       "      <td>True</td>\n",
       "      <td>False</td>\n",
       "      <td>True</td>\n",
       "      <td>False</td>\n",
       "    </tr>\n",
       "    <tr>\n",
       "      <th>4</th>\n",
       "      <td>Video as a By-Product of Digital Prototyping: ...</td>\n",
       "      <td>Documentation</td>\n",
       "      <td>False</td>\n",
       "      <td>True</td>\n",
       "      <td>False</td>\n",
       "      <td>True</td>\n",
       "      <td>False</td>\n",
       "    </tr>\n",
       "  </tbody>\n",
       "</table>\n",
       "</div>"
      ],
      "text/plain": [
       "                                               title       re_phase  group  \\\n",
       "0  Supporting Requirements Elicitation by Tool-Su...    Elicitation  False   \n",
       "1  Supporting Requirements Elicitation by Tool-Su...  Documentation  False   \n",
       "2  Video as a By-Product of Digital Prototyping: ...    Elicitation  False   \n",
       "3  Video as a By-Product of Digital Prototyping: ...     Validation  False   \n",
       "4  Video as a By-Product of Digital Prototyping: ...  Documentation  False   \n",
       "\n",
       "  individual virtual async   sync  \n",
       "0       True   False  True  False  \n",
       "1       True   False  True  False  \n",
       "2       True   False  True  False  \n",
       "3       True   False  True  False  \n",
       "4       True   False  True  False  "
      ]
     },
     "execution_count": 150,
     "metadata": {},
     "output_type": "execute_result"
    }
   ],
   "source": [
    "data = sparql_dataframe.get(ENDPOINT_URL, PREFIXES+query)\n",
    "data.head()"
   ]
  },
  {
   "cell_type": "markdown",
   "id": "4e191919-5c70-476b-a3de-a08dc005b45a",
   "metadata": {},
   "source": [
    "<h3> Generate Graph <h3>"
   ]
  },
  {
   "cell_type": "code",
   "execution_count": 151,
   "id": "9599a88f-99b1-4fe6-a70e-be08a4afa92f",
   "metadata": {},
   "outputs": [
    {
     "data": {
      "text/plain": [
       "<AxesSubplot:>"
      ]
     },
     "execution_count": 151,
     "metadata": {},
     "output_type": "execute_result"
    },
    {
     "data": {
      "image/png": "[encoded data removed]",
      "text/plain": [
       "<Figure size 432x288 with 1 Axes>"
      ]
     },
     "metadata": {
      "needs_background": "light"
     },
     "output_type": "display_data"
    }
   ],
   "source": [
    "paper_duplicates = []\n",
    "context_data = []\n",
    "for index, row in data.iterrows():\n",
    "    if row['title'] not in paper_duplicates:\n",
    "        paper_duplicates.append(row['title'])\n",
    "        paper_title = row['title']\n",
    "        for idx in range(2,len(row)):\n",
    "            if not pd.isnull(row[idx]) and row[idx] == True:\n",
    "                context_data.append({'paper':paper_title,'characteristic':row.index[idx]})\n",
    "\n",
    "df = pd.DataFrame(context_data)\n",
    "df['characteristic'].value_counts().plot(kind='bar')"
   ]
  },
  {
   "cell_type": "markdown",
   "id": "23173a9c-fab3-4959-b15e-c46f1d40c5ba",
   "metadata": {},
   "source": [
    "<h3> Only RE Phase (find most popular RE Phase)<h3>"
   ]
  },
  {
   "cell_type": "code",
   "execution_count": 152,
   "id": "19126088-269d-43a2-922c-aea78b907a6e",
   "metadata": {},
   "outputs": [
    {
     "data": {
      "text/html": [
       "<div>\n",
       "<style scoped>\n",
       "    .dataframe tbody tr th:only-of-type {\n",
       "        vertical-align: middle;\n",
       "    }\n",
       "\n",
       "    .dataframe tbody tr th {\n",
       "        vertical-align: top;\n",
       "    }\n",
       "\n",
       "    .dataframe thead th {\n",
       "        text-align: right;\n",
       "    }\n",
       "</style>\n",
       "<table border=\"1\" class=\"dataframe\">\n",
       "  <thead>\n",
       "    <tr style=\"text-align: right;\">\n",
       "      <th></th>\n",
       "      <th>title</th>\n",
       "      <th>re_phase</th>\n",
       "    </tr>\n",
       "  </thead>\n",
       "  <tbody>\n",
       "    <tr>\n",
       "      <th>0</th>\n",
       "      <td>Software Cinema-Video-based Requirements Engin...</td>\n",
       "      <td>Validation</td>\n",
       "    </tr>\n",
       "    <tr>\n",
       "      <th>1</th>\n",
       "      <td>Software Cinema-Video-based Requirements Engin...</td>\n",
       "      <td>Elicitation</td>\n",
       "    </tr>\n",
       "    <tr>\n",
       "      <th>2</th>\n",
       "      <td>Software Cinema-Video-based Requirements Engin...</td>\n",
       "      <td>Validation</td>\n",
       "    </tr>\n",
       "    <tr>\n",
       "      <th>3</th>\n",
       "      <td>Vision Meets Visualization: Are Animated Video...</td>\n",
       "      <td>Validation</td>\n",
       "    </tr>\n",
       "    <tr>\n",
       "      <th>4</th>\n",
       "      <td>Vision Meets Visualization: Are Animated Video...</td>\n",
       "      <td>Elicitation</td>\n",
       "    </tr>\n",
       "  </tbody>\n",
       "</table>\n",
       "</div>"
      ],
      "text/plain": [
       "                                               title     re_phase\n",
       "0  Software Cinema-Video-based Requirements Engin...   Validation\n",
       "1  Software Cinema-Video-based Requirements Engin...  Elicitation\n",
       "2  Software Cinema-Video-based Requirements Engin...   Validation\n",
       "3  Vision Meets Visualization: Are Animated Video...   Validation\n",
       "4  Vision Meets Visualization: Are Animated Video...  Elicitation"
      ]
     },
     "execution_count": 152,
     "metadata": {},
     "output_type": "execute_result"
    }
   ],
   "source": [
    "query = \"\"\"\n",
    "SELECT ?title, ?re_phase\n",
    "  WHERE {\n",
    "        ?paper orkgp:P31 ?contribution.\n",
    "        ?contribution a orkgc:C23037.\n",
    "        ?contribution rdfs:label ?contribution_name.\n",
    "        ?paper rdfs:label ?title.\n",
    "        OPTIONAL{?contribution orkgp:P37544/orkgp:P15340 ?context.\n",
    "                 ?context orkgp:P41611/rdfs:label ?re_phase.}\n",
    "        }\"\"\"\n",
    "\n",
    "data = sparql_dataframe.get(ENDPOINT_URL, PREFIXES+query)\n",
    "data.head()"
   ]
  },
  {
   "cell_type": "code",
   "execution_count": 153,
   "id": "16b15d62-70b2-4e3e-98da-acd50669c8e2",
   "metadata": {},
   "outputs": [
    {
     "data": {
      "text/plain": [
       "<AxesSubplot:title={'center':'RE Phase'}, ylabel='re_phase'>"
      ]
     },
     "execution_count": 153,
     "metadata": {},
     "output_type": "execute_result"
    },
    {
     "data": {
      "image/png": "[encoded data removed]",
      "text/plain": [
       "<Figure size 432x288 with 1 Axes>"
      ]
     },
     "metadata": {},
     "output_type": "display_data"
    }
   ],
   "source": [
    "data['re_phase'].value_counts().plot(kind='pie', autopct='%1.1f%%', title='RE Phase')"
   ]
  },
  {
   "cell_type": "markdown",
   "id": "481334fa-9075-4996-bff2-d7d3e9652ae6",
   "metadata": {},
   "source": [
    "<h3> All synonyms of Videos <h3>"
   ]
  },
  {
   "cell_type": "code",
   "execution_count": 154,
   "id": "1e8e215b-177b-4d0d-b0da-57715616f9d9",
   "metadata": {},
   "outputs": [
    {
     "data": {
      "text/html": [
       "<div>\n",
       "<style scoped>\n",
       "    .dataframe tbody tr th:only-of-type {\n",
       "        vertical-align: middle;\n",
       "    }\n",
       "\n",
       "    .dataframe tbody tr th {\n",
       "        vertical-align: top;\n",
       "    }\n",
       "\n",
       "    .dataframe thead th {\n",
       "        text-align: right;\n",
       "    }\n",
       "</style>\n",
       "<table border=\"1\" class=\"dataframe\">\n",
       "  <thead>\n",
       "    <tr style=\"text-align: right;\">\n",
       "      <th></th>\n",
       "      <th>title</th>\n",
       "      <th>video_type</th>\n",
       "    </tr>\n",
       "  </thead>\n",
       "  <tbody>\n",
       "    <tr>\n",
       "      <th>0</th>\n",
       "      <td>Software Cinema-Video-based Requirements Engin...</td>\n",
       "      <td>Vision video</td>\n",
       "    </tr>\n",
       "    <tr>\n",
       "      <th>1</th>\n",
       "      <td>Software Cinema-Video-based Requirements Engin...</td>\n",
       "      <td>Vision video</td>\n",
       "    </tr>\n",
       "    <tr>\n",
       "      <th>2</th>\n",
       "      <td>Vision Meets Visualization: Are Animated Video...</td>\n",
       "      <td>Vision video</td>\n",
       "    </tr>\n",
       "    <tr>\n",
       "      <th>3</th>\n",
       "      <td>Vision Meets Visualization: Are Animated Video...</td>\n",
       "      <td>Vision video</td>\n",
       "    </tr>\n",
       "    <tr>\n",
       "      <th>4</th>\n",
       "      <td>Viewing Vision Videos Online: Opportunities fo...</td>\n",
       "      <td>Vision video</td>\n",
       "    </tr>\n",
       "  </tbody>\n",
       "</table>\n",
       "</div>"
      ],
      "text/plain": [
       "                                               title    video_type\n",
       "0  Software Cinema-Video-based Requirements Engin...  Vision video\n",
       "1  Software Cinema-Video-based Requirements Engin...  Vision video\n",
       "2  Vision Meets Visualization: Are Animated Video...  Vision video\n",
       "3  Vision Meets Visualization: Are Animated Video...  Vision video\n",
       "4  Viewing Vision Videos Online: Opportunities fo...  Vision video"
      ]
     },
     "execution_count": 154,
     "metadata": {},
     "output_type": "execute_result"
    }
   ],
   "source": [
    "query = \"\"\"\n",
    "SELECT ?title, ?video_type\n",
    "  WHERE {\n",
    "    ?paper orkgp:P31 ?contribution.\n",
    "    ?contribution a orkgc:C23037.\n",
    "    ?contribution rdfs:label ?contribution_name.\n",
    "    ?paper rdfs:label ?title.\n",
    "    OPTIONAL{?contribution orkgp:P37544/orkgp:P45098 ?video.\n",
    "             ?video orkgp:P3/rdfs:label ?video_type.}\n",
    "        }\n",
    "        \"\"\"\n",
    "data = sparql_dataframe.get(ENDPOINT_URL, PREFIXES+query)\n",
    "data.head()"
   ]
  },
  {
   "cell_type": "markdown",
   "id": "3b744dee-f72b-4520-bdb7-5823cb9afce0",
   "metadata": {},
   "source": [
    "<h3> Generate Graph <h3>"
   ]
  },
  {
   "cell_type": "code",
   "execution_count": 155,
   "id": "81128521-93fe-49a6-9255-77a783a9d9cd",
   "metadata": {},
   "outputs": [
    {
     "data": {
      "text/plain": [
       "<AxesSubplot:>"
      ]
     },
     "execution_count": 155,
     "metadata": {},
     "output_type": "execute_result"
    },
    {
     "data": {
      "image/png": "[encoded data removed]",
      "text/plain": [
       "<Figure size 432x288 with 1 Axes>"
      ]
     },
     "metadata": {
      "needs_background": "light"
     },
     "output_type": "display_data"
    }
   ],
   "source": [
    "data['video_type'].value_counts().plot(kind='bar', color='red')"
   ]
  },
  {
   "cell_type": "code",
   "execution_count": null,
   "id": "400899a7-80e8-4165-b1b4-3b595494cfa1",
   "metadata": {},
   "outputs": [],
   "source": []
  }
 ],
 "metadata": {
  "kernelspec": {
   "display_name": "Python 3 (ipykernel)",
   "language": "python",
   "name": "python3"
  },
  "language_info": {
   "codemirror_mode": {
    "name": "ipython",
    "version": 3
   },
   "file_extension": ".py",
   "mimetype": "text/x-python",
   "name": "python",
   "nbconvert_exporter": "python",
   "pygments_lexer": "ipython3",
   "version": "3.9.13"
  }
 },
 "nbformat": 4,
 "nbformat_minor": 5
}
